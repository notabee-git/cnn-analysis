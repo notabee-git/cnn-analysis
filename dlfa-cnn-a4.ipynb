{
 "cells": [
  {
   "cell_type": "code",
   "execution_count": 1,
   "id": "5bb71427",
   "metadata": {
    "_cell_guid": "b1076dfc-b9ad-4769-8c92-a6c4dae69d19",
    "_uuid": "8f2839f25d086af736a60e9eeb907d3b93b6e0e5",
    "editable": false,
    "execution": {
     "iopub.execute_input": "2024-04-02T14:56:39.099915Z",
     "iopub.status.busy": "2024-04-02T14:56:39.099572Z",
     "iopub.status.idle": "2024-04-02T14:56:39.823546Z",
     "shell.execute_reply": "2024-04-02T14:56:39.822805Z"
    },
    "papermill": {
     "duration": 0.748432,
     "end_time": "2024-04-02T14:56:39.825833",
     "exception": false,
     "start_time": "2024-04-02T14:56:39.077401",
     "status": "completed"
    },
    "tags": []
   },
   "outputs": [],
   "source": [
    "# This Python 3 environment comes with many helpful analytics libraries installed\n",
    "# It is defined by the kaggle/python Docker image: https://github.com/kaggle/docker-python\n",
    "# For example, here's several helpful packages to load\n",
    "\n",
    "import numpy as np # linear algebra\n",
    "import pandas as pd # data processing, CSV file I/O (e.g. pd.read_csv)\n",
    "\n",
    "# Input data files are available in the read-only \"../input/\" directory\n",
    "# For example, running this (by clicking run or pressing Shift+Enter) will list all files under the input directory\n",
    "\n",
    "import os\n",
    "for dirname, _, filenames in os.walk('/kaggle/input'):\n",
    "    for filename in filenames:\n",
    "        print(os.path.join(dirname, filename))\n",
    "\n",
    "# You can write up to 20GB to the current directory (/kaggle/working/) that gets preserved as output when you create a version using \"Save & Run All\" \n",
    "# You can also write temporary files to /kaggle/temp/, but they won't be saved outside of the current session"
   ]
  },
  {
   "cell_type": "code",
   "execution_count": 2,
   "id": "febc43ed",
   "metadata": {
    "editable": false,
    "execution": {
     "iopub.execute_input": "2024-04-02T14:56:39.869889Z",
     "iopub.status.busy": "2024-04-02T14:56:39.869510Z",
     "iopub.status.idle": "2024-04-02T14:56:46.231116Z",
     "shell.execute_reply": "2024-04-02T14:56:46.230321Z"
    },
    "papermill": {
     "duration": 6.385233,
     "end_time": "2024-04-02T14:56:46.233369",
     "exception": false,
     "start_time": "2024-04-02T14:56:39.848136",
     "status": "completed"
    },
    "tags": []
   },
   "outputs": [],
   "source": [
    "# Import necessary libraries\n",
    "import torch\n",
    "import torch.nn as nn\n",
    "import torch.optim as optim\n",
    "import torchvision\n",
    "import torchvision.transforms as transforms\n",
    "from torch.utils.data import DataLoader\n",
    "from torchvision.datasets import MNIST\n",
    "from torchvision.datasets import CIFAR10\n"
   ]
  },
  {
   "cell_type": "markdown",
   "id": "9669d250",
   "metadata": {
    "editable": false,
    "papermill": {
     "duration": 0.020137,
     "end_time": "2024-04-02T14:56:46.274349",
     "exception": false,
     "start_time": "2024-04-02T14:56:46.254212",
     "status": "completed"
    },
    "tags": []
   },
   "source": [
    "# Implementation of CNN Vanilla and CNN Resnet\n",
    "\n"
   ]
  },
  {
   "cell_type": "markdown",
   "id": "19f5c4a8",
   "metadata": {
    "editable": false,
    "papermill": {
     "duration": 0.020169,
     "end_time": "2024-04-02T14:56:46.315086",
     "exception": false,
     "start_time": "2024-04-02T14:56:46.294917",
     "status": "completed"
    },
    "tags": []
   },
   "source": [
    "### Defining CNN-Vanilla"
   ]
  },
  {
   "cell_type": "code",
   "execution_count": 3,
   "id": "ef44045f",
   "metadata": {
    "editable": false,
    "execution": {
     "iopub.execute_input": "2024-04-02T14:56:46.357565Z",
     "iopub.status.busy": "2024-04-02T14:56:46.356924Z",
     "iopub.status.idle": "2024-04-02T14:56:46.369950Z",
     "shell.execute_reply": "2024-04-02T14:56:46.369051Z"
    },
    "papermill": {
     "duration": 0.036568,
     "end_time": "2024-04-02T14:56:46.371928",
     "exception": false,
     "start_time": "2024-04-02T14:56:46.335360",
     "status": "completed"
    },
    "tags": []
   },
   "outputs": [],
   "source": [
    "import torch  # Import PyTorch library\n",
    "import torch.nn as nn  # Import nn module for defining neural network layers\n",
    "\n",
    "class VanillaBlock(nn.Module):\n",
    "    def __init__(self, in_channels, out_channels, stride=1):\n",
    "        super(VanillaBlock, self).__init__()\n",
    "        # Define first convolutional layer with batch normalization and ReLU activation\n",
    "        self.conv1 = nn.Conv2d(in_channels, out_channels, kernel_size=3, stride=stride, padding=1, bias=False)\n",
    "        self.bn1 = nn.BatchNorm2d(out_channels)  # Batch normalization\n",
    "        self.relu = nn.ReLU(inplace=True)  # ReLU activation\n",
    "        # Define second convolutional layer with batch normalization and ReLU activation\n",
    "        self.conv2 = nn.Conv2d(out_channels, out_channels, kernel_size=3, stride=1, padding=1, bias=False)\n",
    "        self.bn2 = nn.BatchNorm2d(out_channels)  # Batch normalization\n",
    "        self.stride = stride  # Store stride value for later use\n",
    "\n",
    "    def forward(self, x):\n",
    "        # Forward pass through the block\n",
    "        out = self.relu(self.bn1(self.conv1(x)))  # Apply first convolution, batch normalization, and ReLU\n",
    "        out = self.bn2(self.conv2(out))  # Apply second convolution and batch normalization\n",
    "        out = self.relu(out)  # Apply ReLU\n",
    "        return out  # Return output\n",
    "\n",
    "class CNNVanilla(nn.Module):\n",
    "    def __init__(self):\n",
    "        super(CNNVanilla, self).__init__()\n",
    "        # Define initial convolutional layer\n",
    "        self.conv1 = nn.Conv2d(3, 32, 3, padding=1)\n",
    "        self.pool = nn.MaxPool2d(2, 2)  # Max pooling layer\n",
    "        # Define three VanillaBlocks\n",
    "        self.vanilla_block1 = VanillaBlock(32, 64)\n",
    "        self.vanilla_block2 = VanillaBlock(64, 64)\n",
    "        self.vanilla_block3 = VanillaBlock(64, 64)\n",
    "        self.fc1 = nn.Linear(64 * 8 * 8, 128)  # Fully connected layer\n",
    "        self.fc2 = nn.Linear(128, 10)  # Output layer\n",
    "\n",
    "    def forward(self, x):\n",
    "        # Forward pass through the network\n",
    "        x = self.pool(torch.relu(self.conv1(x)))  # Apply initial convolution, ReLU, and pooling\n",
    "        x = self.vanilla_block1(x)  # Pass through first VanillaBlock\n",
    "        x = self.vanilla_block2(x)  # Pass through second VanillaBlock\n",
    "        x = self.vanilla_block3(x)  # Pass through third VanillaBlock\n",
    "        x = self.pool(x)  # Pooling\n",
    "        x = x.view(-1, 64 * 8 * 8)  # Reshape tensor - Flattening\n",
    "        x = torch.relu(self.fc1(x))  # Apply ReLU to first fully connected layer\n",
    "        x = self.fc2(x)  # Apply second fully connected layer\n",
    "        return x  # Return output\n"
   ]
  },
  {
   "cell_type": "markdown",
   "id": "b9598d2b",
   "metadata": {
    "editable": false,
    "papermill": {
     "duration": 0.020514,
     "end_time": "2024-04-02T14:56:46.412936",
     "exception": false,
     "start_time": "2024-04-02T14:56:46.392422",
     "status": "completed"
    },
    "tags": []
   },
   "source": [
    "### Defining CNN-Resnet"
   ]
  },
  {
   "cell_type": "code",
   "execution_count": 4,
   "id": "5467f005",
   "metadata": {
    "editable": false,
    "execution": {
     "iopub.execute_input": "2024-04-02T14:56:46.454816Z",
     "iopub.status.busy": "2024-04-02T14:56:46.454547Z",
     "iopub.status.idle": "2024-04-02T14:56:46.468228Z",
     "shell.execute_reply": "2024-04-02T14:56:46.467395Z"
    },
    "papermill": {
     "duration": 0.037022,
     "end_time": "2024-04-02T14:56:46.470162",
     "exception": false,
     "start_time": "2024-04-02T14:56:46.433140",
     "status": "completed"
    },
    "tags": []
   },
   "outputs": [],
   "source": [
    "# Define the ResNet block\n",
    "class ResNetBlock(nn.Module):\n",
    "    def __init__(self, in_channels, out_channels, stride=1):\n",
    "        super(ResNetBlock, self).__init__()\n",
    "        # Define first convolutional layer with batch normalization and ReLU activation\n",
    "        self.conv1 = nn.Conv2d(in_channels, out_channels, kernel_size=3, stride=stride, padding=1, bias=False)\n",
    "        self.bn1 = nn.BatchNorm2d(out_channels)  # Batch normalization\n",
    "        self.relu = nn.ReLU(inplace=True)  # ReLU activation\n",
    "        # Define second convolutional layer with batch normalization\n",
    "        self.conv2 = nn.Conv2d(out_channels, out_channels, kernel_size=3, stride=1, padding=1, bias=False)\n",
    "        self.bn2 = nn.BatchNorm2d(out_channels)  # Batch normalization\n",
    "        self.stride = stride  # Store stride value for later use\n",
    "\n",
    "        # Define shortcut connection\n",
    "        if stride != 1 or in_channels != out_channels:\n",
    "            self.shortcut = nn.Sequential(\n",
    "                nn.Conv2d(in_channels, out_channels, kernel_size=1, stride=stride, bias=False),\n",
    "                nn.BatchNorm2d(out_channels)\n",
    "            )\n",
    "        else:\n",
    "            self.shortcut = nn.Sequential()  # Empty sequential module\n",
    "\n",
    "    def forward(self, x):\n",
    "        residual = x  # Store input as residual\n",
    "        out = self.relu(self.bn1(self.conv1(x)))  # Apply first convolution, batch normalization, and ReLU\n",
    "        out = self.bn2(self.conv2(out))  # Apply second convolution and batch normalization\n",
    "        out += self.shortcut(residual)  # Add shortcut connection\n",
    "        out = self.relu(out)  # Apply ReLU\n",
    "        return out  # Return output\n",
    "\n",
    "class CNNResNet(nn.Module):\n",
    "    def __init__(self):\n",
    "        super(CNNResNet, self).__init__()\n",
    "        # Define initial convolutional layer\n",
    "        self.conv1 = nn.Conv2d(3, 32, 3, padding=1)\n",
    "        self.pool = nn.MaxPool2d(2, 2)  # Max pooling layer\n",
    "        # Define three ResNetBlocks\n",
    "        self.resnet_block1 = ResNetBlock(32, 64)\n",
    "        self.resnet_block2 = ResNetBlock(64, 64)\n",
    "        self.resnet_block3 = ResNetBlock(64, 64)\n",
    "        self.fc1 = nn.Linear(64 * 8 * 8, 128)  # Fully connected layer\n",
    "        self.fc2 = nn.Linear(128, 10)  # Output layer\n",
    "\n",
    "    def forward(self, x):\n",
    "        # Forward pass through the network\n",
    "        x = self.pool(torch.relu(self.conv1(x)))  # Apply initial convolution, ReLU, and pooling\n",
    "        x = self.resnet_block1(x)  # Pass through first ResNetBlock\n",
    "        x = self.resnet_block2(x)  # Pass through second ResNetBlock\n",
    "        x = self.resnet_block3(x)  # Pass through third ResNetBlock\n",
    "        x = self.pool(x)  # Pooling\n",
    "        x = x.view(-1, 64 * 8 * 8)  # Reshape tensor\n",
    "        x = torch.relu(self.fc1(x))  # Apply ReLU to first fully connected layer\n",
    "        x = self.fc2(x)  # Apply second fully connected layer\n",
    "        return x  # Return output\n"
   ]
  },
  {
   "cell_type": "markdown",
   "id": "70b649ac",
   "metadata": {
    "editable": false,
    "papermill": {
     "duration": 0.020206,
     "end_time": "2024-04-02T14:56:46.510769",
     "exception": false,
     "start_time": "2024-04-02T14:56:46.490563",
     "status": "completed"
    },
    "tags": []
   },
   "source": [
    "### Loading CIFAR10 training and test data\n",
    "Obtaining better result by taking mean and std values on data loaded instead of using mean and std from cnn tutorial."
   ]
  },
  {
   "cell_type": "code",
   "execution_count": 5,
   "id": "5d7805f5",
   "metadata": {
    "editable": false,
    "execution": {
     "iopub.execute_input": "2024-04-02T14:56:46.552353Z",
     "iopub.status.busy": "2024-04-02T14:56:46.552076Z",
     "iopub.status.idle": "2024-04-02T14:57:25.023121Z",
     "shell.execute_reply": "2024-04-02T14:57:25.022135Z"
    },
    "papermill": {
     "duration": 38.494472,
     "end_time": "2024-04-02T14:57:25.025288",
     "exception": false,
     "start_time": "2024-04-02T14:56:46.530816",
     "status": "completed"
    },
    "tags": []
   },
   "outputs": [
    {
     "name": "stdout",
     "output_type": "stream",
     "text": [
      "Downloading https://www.cs.toronto.edu/~kriz/cifar-10-python.tar.gz to ./data/cifar-10-python.tar.gz\n"
     ]
    },
    {
     "name": "stderr",
     "output_type": "stream",
     "text": [
      "100%|██████████| 170498071/170498071 [00:17<00:00, 9724862.39it/s] \n"
     ]
    },
    {
     "name": "stdout",
     "output_type": "stream",
     "text": [
      "Extracting ./data/cifar-10-python.tar.gz to ./data\n",
      "Files already downloaded and verified\n",
      "Files already downloaded and verified\n",
      "Shape of the first image in train set: torch.Size([3, 32, 32])\n",
      "Shape of the first image in test set: torch.Size([3, 32, 32])\n",
      "Sample images from the train set:\n"
     ]
    },
    {
     "data": {
      "image/png": "[encoded data removed]",
      "text/plain": [
       "<Figure size 1200x300 with 5 Axes>"
      ]
     },
     "metadata": {},
     "output_type": "display_data"
    }
   ],
   "source": [
    "import torchvision.transforms as transforms  # Import transforms module from torchvision for data transformations\n",
    "from torchvision.datasets import CIFAR10  # Import CIFAR10 dataset from torchvision.datasets\n",
    "from torch.utils.data import DataLoader  # Import DataLoader for batch loading of data\n",
    "import matplotlib.pyplot as plt  # Import matplotlib.pyplot for plotting\n",
    "import numpy as np  # Import numpy for numerical operations\n",
    "\n",
    "## mean = [0.4914, 0.4822, 0.4465] \n",
    "## std = [0.2470, 0.2435, 0.2616]\n",
    "## The above mean values are given in CNN Tutorial\n",
    "\n",
    "# Will give mean and standard deviation values by calculating based on loaded data (better performance)\n",
    "\n",
    "# Define data augmentation and normalization transformations\n",
    "transform_mean = transforms.Compose([\n",
    "    transforms.ToTensor(),  # Convert PIL image to PyTorch tensor\n",
    "])\n",
    "\n",
    "\n",
    "# Define CIFAR-10 train and test datasets with the specified transformations\n",
    "trainset_mean = CIFAR10(root='./data', train=True, download=True, transform=transform_mean)\n",
    "#testset_mean = CIFAR10(root='./data', train=False, download=True, transform=transform_mean)\n",
    "\n",
    "\n",
    "# Compute mean and standard deviation for each channel\n",
    "mean = torch.stack([t.mean(dim=(1, 2)) for t, _ in trainset_mean]).mean(dim=0)\n",
    "std = torch.stack([t.std(dim=(1, 2)) for t, _ in trainset_mean]).mean(dim=0)\n",
    "\n",
    "# Define data augmentation and normalization transformations\n",
    "transform = transforms.Compose([\n",
    "    transforms.ToTensor(),  # Convert PIL image to PyTorch tensor\n",
    "    transforms.Normalize(mean, std)  # Normalize the image\n",
    "])\n",
    "\n",
    "# Define CIFAR-10 train and test datasets with the specified transformations\n",
    "trainset = CIFAR10(root='./data', train=True, download=True, transform=transform)\n",
    "testset = CIFAR10(root='./data', train=False, download=True, transform=transform)\n",
    "\n",
    "\n",
    "# Function to display sample images from the dataset\n",
    "def show_samples(dataset, num_samples=5):\n",
    "    classes = dataset.classes\n",
    "    fig, axes = plt.subplots(1, num_samples, figsize=(12, 3))\n",
    "    for i in range(num_samples):\n",
    "        image, label = dataset[i]\n",
    "        axes[i].imshow(np.transpose(image.numpy(), (1, 2, 0)))\n",
    "        axes[i].set_title(classes[label])\n",
    "        axes[i].axis('off')\n",
    "    plt.show()\n",
    "\n",
    "# Print the shape of the first image in the train set\n",
    "print(\"Shape of the first image in train set:\", trainset[0][0].shape)\n",
    "\n",
    "# Print the shape of the first image in the test set\n",
    "print(\"Shape of the first image in test set:\", testset[0][0].shape)\n",
    "\n",
    "# Display sample images from the train set\n",
    "print(\"Sample images from the train set:\")\n",
    "show_samples(trainset)\n",
    "\n",
    "# Define data loaders\n",
    "trainloader = DataLoader(trainset, batch_size=256, shuffle=True)\n",
    "testloader = DataLoader(testset, batch_size=256, shuffle=False)\n"
   ]
  },
  {
   "cell_type": "markdown",
   "id": "5eb3bfbc",
   "metadata": {
    "editable": false,
    "papermill": {
     "duration": 0.034446,
     "end_time": "2024-04-02T14:57:25.095032",
     "exception": false,
     "start_time": "2024-04-02T14:57:25.060586",
     "status": "completed"
    },
    "tags": []
   },
   "source": [
    "### Initializing Models and printing model parameters\n",
    "Loss Function chosen was CrossEntropyLoss and Optimizer chosen was Adam"
   ]
  },
  {
   "cell_type": "code",
   "execution_count": 6,
   "id": "cd78c52e",
   "metadata": {
    "editable": false,
    "execution": {
     "iopub.execute_input": "2024-04-02T14:57:25.165823Z",
     "iopub.status.busy": "2024-04-02T14:57:25.165512Z",
     "iopub.status.idle": "2024-04-02T14:57:25.963034Z",
     "shell.execute_reply": "2024-04-02T14:57:25.961979Z"
    },
    "papermill": {
     "duration": 0.835314,
     "end_time": "2024-04-02T14:57:25.965064",
     "exception": false,
     "start_time": "2024-04-02T14:57:25.129750",
     "status": "completed"
    },
    "tags": []
   },
   "outputs": [
    {
     "name": "stdout",
     "output_type": "stream",
     "text": [
      "CNNVanilla(\n",
      "  (conv1): Conv2d(3, 32, kernel_size=(3, 3), stride=(1, 1), padding=(1, 1))\n",
      "  (pool): MaxPool2d(kernel_size=2, stride=2, padding=0, dilation=1, ceil_mode=False)\n",
      "  (vanilla_block1): VanillaBlock(\n",
      "    (conv1): Conv2d(32, 64, kernel_size=(3, 3), stride=(1, 1), padding=(1, 1), bias=False)\n",
      "    (bn1): BatchNorm2d(64, eps=1e-05, momentum=0.1, affine=True, track_running_stats=True)\n",
      "    (relu): ReLU(inplace=True)\n",
      "    (conv2): Conv2d(64, 64, kernel_size=(3, 3), stride=(1, 1), padding=(1, 1), bias=False)\n",
      "    (bn2): BatchNorm2d(64, eps=1e-05, momentum=0.1, affine=True, track_running_stats=True)\n",
      "  )\n",
      "  (vanilla_block2): VanillaBlock(\n",
      "    (conv1): Conv2d(64, 64, kernel_size=(3, 3), stride=(1, 1), padding=(1, 1), bias=False)\n",
      "    (bn1): BatchNorm2d(64, eps=1e-05, momentum=0.1, affine=True, track_running_stats=True)\n",
      "    (relu): ReLU(inplace=True)\n",
      "    (conv2): Conv2d(64, 64, kernel_size=(3, 3), stride=(1, 1), padding=(1, 1), bias=False)\n",
      "    (bn2): BatchNorm2d(64, eps=1e-05, momentum=0.1, affine=True, track_running_stats=True)\n",
      "  )\n",
      "  (vanilla_block3): VanillaBlock(\n",
      "    (conv1): Conv2d(64, 64, kernel_size=(3, 3), stride=(1, 1), padding=(1, 1), bias=False)\n",
      "    (bn1): BatchNorm2d(64, eps=1e-05, momentum=0.1, affine=True, track_running_stats=True)\n",
      "    (relu): ReLU(inplace=True)\n",
      "    (conv2): Conv2d(64, 64, kernel_size=(3, 3), stride=(1, 1), padding=(1, 1), bias=False)\n",
      "    (bn2): BatchNorm2d(64, eps=1e-05, momentum=0.1, affine=True, track_running_stats=True)\n",
      "  )\n",
      "  (fc1): Linear(in_features=4096, out_features=128, bias=True)\n",
      "  (fc2): Linear(in_features=128, out_features=10, bias=True)\n",
      ")\n",
      "CNNResNet(\n",
      "  (conv1): Conv2d(3, 32, kernel_size=(3, 3), stride=(1, 1), padding=(1, 1))\n",
      "  (pool): MaxPool2d(kernel_size=2, stride=2, padding=0, dilation=1, ceil_mode=False)\n",
      "  (resnet_block1): ResNetBlock(\n",
      "    (conv1): Conv2d(32, 64, kernel_size=(3, 3), stride=(1, 1), padding=(1, 1), bias=False)\n",
      "    (bn1): BatchNorm2d(64, eps=1e-05, momentum=0.1, affine=True, track_running_stats=True)\n",
      "    (relu): ReLU(inplace=True)\n",
      "    (conv2): Conv2d(64, 64, kernel_size=(3, 3), stride=(1, 1), padding=(1, 1), bias=False)\n",
      "    (bn2): BatchNorm2d(64, eps=1e-05, momentum=0.1, affine=True, track_running_stats=True)\n",
      "    (shortcut): Sequential(\n",
      "      (0): Conv2d(32, 64, kernel_size=(1, 1), stride=(1, 1), bias=False)\n",
      "      (1): BatchNorm2d(64, eps=1e-05, momentum=0.1, affine=True, track_running_stats=True)\n",
      "    )\n",
      "  )\n",
      "  (resnet_block2): ResNetBlock(\n",
      "    (conv1): Conv2d(64, 64, kernel_size=(3, 3), stride=(1, 1), padding=(1, 1), bias=False)\n",
      "    (bn1): BatchNorm2d(64, eps=1e-05, momentum=0.1, affine=True, track_running_stats=True)\n",
      "    (relu): ReLU(inplace=True)\n",
      "    (conv2): Conv2d(64, 64, kernel_size=(3, 3), stride=(1, 1), padding=(1, 1), bias=False)\n",
      "    (bn2): BatchNorm2d(64, eps=1e-05, momentum=0.1, affine=True, track_running_stats=True)\n",
      "    (shortcut): Sequential()\n",
      "  )\n",
      "  (resnet_block3): ResNetBlock(\n",
      "    (conv1): Conv2d(64, 64, kernel_size=(3, 3), stride=(1, 1), padding=(1, 1), bias=False)\n",
      "    (bn1): BatchNorm2d(64, eps=1e-05, momentum=0.1, affine=True, track_running_stats=True)\n",
      "    (relu): ReLU(inplace=True)\n",
      "    (conv2): Conv2d(64, 64, kernel_size=(3, 3), stride=(1, 1), padding=(1, 1), bias=False)\n",
      "    (bn2): BatchNorm2d(64, eps=1e-05, momentum=0.1, affine=True, track_running_stats=True)\n",
      "    (shortcut): Sequential()\n",
      "  )\n",
      "  (fc1): Linear(in_features=4096, out_features=128, bias=True)\n",
      "  (fc2): Linear(in_features=128, out_features=10, bias=True)\n",
      ")\n",
      "Number of parameters in CNN-Vanilla: 730122\n",
      "Number of parameters in CNN-ResNet: 732298\n",
      "torch.Size([256, 10])\n"
     ]
    }
   ],
   "source": [
    "# Create instances of CNNVanilla and CNNResNet models\n",
    "cnn_vanilla = CNNVanilla()\n",
    "cnn_resnet = CNNResNet()\n",
    "\n",
    "# Print the architectures of the models\n",
    "print(cnn_vanilla)\n",
    "print(cnn_resnet)\n",
    "\n",
    "# Set device to GPU if available, else use CPU\n",
    "device = torch.device(\"cuda:0\" if torch.cuda.is_available() else \"cpu\")\n",
    "cnn_vanilla.to(device)  # Move CNNVanilla model to device\n",
    "cnn_resnet.to(device)  # Move CNNResNet model to device\n",
    "\n",
    "# Print the number of parameters in each model\n",
    "print(\"Number of parameters in CNN-Vanilla:\", sum(p.numel() for p in cnn_vanilla.parameters()))\n",
    "print(\"Number of parameters in CNN-ResNet:\", sum(p.numel() for p in cnn_resnet.parameters()))\n",
    "\n",
    "# Define loss function and optimizers for each model\n",
    "criterion = nn.CrossEntropyLoss()  # Cross-entropy loss function\n",
    "optimizer_vanilla = optim.Adam(cnn_vanilla.parameters(), lr=0.001)  # Adam optimizer for CNNVanilla\n",
    "optimizer_resnet = optim.Adam(cnn_resnet.parameters(), lr=0.001)  # Adam optimizer for CNNResNet\n",
    "\n",
    "# Perform a forward pass through CNNResNet model with random input tensor\n",
    "ans = cnn_resnet(torch.rand([256,3,32,32]).to(device))\n",
    "print(ans.shape)  # Print the shape of the output tensor\n"
   ]
  },
  {
   "cell_type": "markdown",
   "id": "cf2125c8",
   "metadata": {
    "editable": false,
    "papermill": {
     "duration": 0.034414,
     "end_time": "2024-04-02T14:57:26.034818",
     "exception": false,
     "start_time": "2024-04-02T14:57:26.000404",
     "status": "completed"
    },
    "tags": []
   },
   "source": [
    "### Defining function to train model"
   ]
  },
  {
   "cell_type": "code",
   "execution_count": 7,
   "id": "adcc6037",
   "metadata": {
    "editable": false,
    "execution": {
     "iopub.execute_input": "2024-04-02T14:57:26.157519Z",
     "iopub.status.busy": "2024-04-02T14:57:26.157092Z",
     "iopub.status.idle": "2024-04-02T14:57:26.167802Z",
     "shell.execute_reply": "2024-04-02T14:57:26.166831Z"
    },
    "papermill": {
     "duration": 0.095362,
     "end_time": "2024-04-02T14:57:26.169991",
     "exception": false,
     "start_time": "2024-04-02T14:57:26.074629",
     "status": "completed"
    },
    "tags": []
   },
   "outputs": [],
   "source": [
    "import torch \n",
    "import torch.nn as nn  \n",
    "import torch.optim as optim  \n",
    "import matplotlib.pyplot as plt  \n",
    "\n",
    "# Function to train the model and compute accuracy\n",
    "def train_model(model, trainloader, criterion, optimizer, num_epochs=50):\n",
    "    model.train()  # Set the model to training mode\n",
    "    train_accuracy_history = []  # List to store training accuracy for each epoch\n",
    "    for epoch in range(num_epochs):\n",
    "        running_loss = 0.0  # Initialize running loss\n",
    "        correct_predictions = 0  # Initialize number of correct predictions\n",
    "        total_predictions = 0  # Initialize total number of predictions\n",
    "        for i, data in enumerate(trainloader, 0):\n",
    "            inputs, labels = data[0].to(device), data[1].to(device)  # Get inputs and labels\n",
    "            optimizer.zero_grad()  # Zero the parameter gradients\n",
    "            outputs = model(inputs)  # Forward pass\n",
    "            loss = criterion(outputs, labels)  # Compute the loss\n",
    "            loss.backward()  # Backward pass\n",
    "            optimizer.step()  # Optimize\n",
    "\n",
    "            running_loss += loss.item()  # Accumulate loss\n",
    "            _, predicted = torch.max(outputs.data, 1)  # Get predicted labels\n",
    "            total_predictions += labels.size(0)  # Increment total predictions\n",
    "            correct_predictions += (predicted == labels).sum().item()  # Increment correct predictions\n",
    "\n",
    "        # Calculate accuracy for the epoch\n",
    "        epoch_accuracy = correct_predictions / total_predictions\n",
    "        train_accuracy_history.append(epoch_accuracy)  # Append accuracy to history\n",
    "\n",
    "        # Print epoch statistics\n",
    "        print(f'Epoch {epoch+1}, Loss: {running_loss / len(trainloader)}, Accuracy: {epoch_accuracy:.2%}')\n",
    "\n",
    "    return train_accuracy_history  # Return training accuracy history\n"
   ]
  },
  {
   "cell_type": "markdown",
   "id": "78550e8d",
   "metadata": {
    "editable": false,
    "papermill": {
     "duration": 0.039144,
     "end_time": "2024-04-02T14:57:26.249086",
     "exception": false,
     "start_time": "2024-04-02T14:57:26.209942",
     "status": "completed"
    },
    "tags": []
   },
   "source": [
    "### Training CNN-Vanilla"
   ]
  },
  {
   "cell_type": "code",
   "execution_count": 8,
   "id": "9bdac825",
   "metadata": {
    "editable": false,
    "execution": {
     "iopub.execute_input": "2024-04-02T14:57:26.329336Z",
     "iopub.status.busy": "2024-04-02T14:57:26.328972Z",
     "iopub.status.idle": "2024-04-02T15:09:58.710327Z",
     "shell.execute_reply": "2024-04-02T15:09:58.709250Z"
    },
    "papermill": {
     "duration": 752.423847,
     "end_time": "2024-04-02T15:09:58.712436",
     "exception": false,
     "start_time": "2024-04-02T14:57:26.288589",
     "status": "completed"
    },
    "tags": []
   },
   "outputs": [
    {
     "name": "stdout",
     "output_type": "stream",
     "text": [
      "Training CNN-Vanilla:\n",
      "Epoch 1, Loss: 1.3967791634554765, Accuracy: 48.59%\n",
      "Epoch 2, Loss: 0.9255734922326341, Accuracy: 67.14%\n",
      "Epoch 3, Loss: 0.7507071574123538, Accuracy: 73.52%\n",
      "Epoch 4, Loss: 0.6410457642406834, Accuracy: 77.48%\n",
      "Epoch 5, Loss: 0.5640418952216908, Accuracy: 80.19%\n",
      "Epoch 6, Loss: 0.5013592612682557, Accuracy: 82.51%\n",
      "Epoch 7, Loss: 0.4422734895226907, Accuracy: 84.45%\n",
      "Epoch 8, Loss: 0.3942275631184481, Accuracy: 86.02%\n",
      "Epoch 9, Loss: 0.3460452482864565, Accuracy: 87.77%\n",
      "Epoch 10, Loss: 0.30396854383300764, Accuracy: 89.26%\n",
      "Epoch 11, Loss: 0.2699445175121025, Accuracy: 90.38%\n",
      "Epoch 12, Loss: 0.2332033519918213, Accuracy: 91.70%\n",
      "Epoch 13, Loss: 0.2044543601876619, Accuracy: 92.81%\n",
      "Epoch 14, Loss: 0.16661799311333772, Accuracy: 94.12%\n",
      "Epoch 15, Loss: 0.15087067689366487, Accuracy: 94.72%\n",
      "Epoch 16, Loss: 0.12602734599946713, Accuracy: 95.50%\n",
      "Epoch 17, Loss: 0.11089258184846566, Accuracy: 96.12%\n",
      "Epoch 18, Loss: 0.10190541295296683, Accuracy: 96.40%\n",
      "Epoch 19, Loss: 0.09133130503932432, Accuracy: 96.81%\n",
      "Epoch 20, Loss: 0.07355619615362007, Accuracy: 97.44%\n",
      "Epoch 21, Loss: 0.06267546485083139, Accuracy: 97.84%\n",
      "Epoch 22, Loss: 0.0724654192180962, Accuracy: 97.48%\n",
      "Epoch 23, Loss: 0.08630242571234703, Accuracy: 96.95%\n",
      "Epoch 24, Loss: 0.057154995674381454, Accuracy: 98.00%\n",
      "Epoch 25, Loss: 0.04775530239091996, Accuracy: 98.30%\n",
      "Epoch 26, Loss: 0.058239506700133184, Accuracy: 97.92%\n",
      "Epoch 27, Loss: 0.060846813232162775, Accuracy: 97.84%\n",
      "Epoch 28, Loss: 0.05657921118509709, Accuracy: 97.99%\n",
      "Epoch 29, Loss: 0.05687165692714708, Accuracy: 97.92%\n",
      "Epoch 30, Loss: 0.02853803912994965, Accuracy: 99.04%\n",
      "Epoch 31, Loss: 0.04427521659194359, Accuracy: 98.47%\n",
      "Epoch 32, Loss: 0.06237184864050728, Accuracy: 97.78%\n",
      "Epoch 33, Loss: 0.0391406489498153, Accuracy: 98.64%\n",
      "Epoch 34, Loss: 0.027401746813759054, Accuracy: 99.12%\n",
      "Epoch 35, Loss: 0.05752005548292429, Accuracy: 98.00%\n",
      "Epoch 36, Loss: 0.0484136924199874, Accuracy: 98.27%\n",
      "Epoch 37, Loss: 0.03811288616686527, Accuracy: 98.69%\n",
      "Epoch 38, Loss: 0.0384068641721328, Accuracy: 98.68%\n",
      "Epoch 39, Loss: 0.04320594400395544, Accuracy: 98.49%\n",
      "Epoch 40, Loss: 0.02553827454316981, Accuracy: 99.12%\n",
      "Epoch 41, Loss: 0.029412633675264612, Accuracy: 98.97%\n",
      "Epoch 42, Loss: 0.039297343445561676, Accuracy: 98.61%\n",
      "Epoch 43, Loss: 0.057526565686685543, Accuracy: 97.99%\n",
      "Epoch 44, Loss: 0.029836166553836013, Accuracy: 98.94%\n",
      "Epoch 45, Loss: 0.02184395892878196, Accuracy: 99.26%\n",
      "Epoch 46, Loss: 0.025159600743197133, Accuracy: 99.10%\n",
      "Epoch 47, Loss: 0.014978724498567837, Accuracy: 99.50%\n",
      "Epoch 48, Loss: 0.04287227417808026, Accuracy: 98.52%\n",
      "Epoch 49, Loss: 0.05468629353337598, Accuracy: 98.07%\n",
      "Epoch 50, Loss: 0.032085977159725616, Accuracy: 98.86%\n"
     ]
    }
   ],
   "source": [
    "# Train CNN-Vanilla\n",
    "print(\"Training CNN-Vanilla:\")\n",
    "train_accuracy_vanilla = train_model(cnn_vanilla, trainloader, criterion, optimizer_vanilla)"
   ]
  },
  {
   "cell_type": "markdown",
   "id": "8148835b",
   "metadata": {
    "editable": false,
    "papermill": {
     "duration": 0.038177,
     "end_time": "2024-04-02T15:09:58.790432",
     "exception": false,
     "start_time": "2024-04-02T15:09:58.752255",
     "status": "completed"
    },
    "tags": []
   },
   "source": [
    "### Training CNN-Resnet"
   ]
  },
  {
   "cell_type": "code",
   "execution_count": 9,
   "id": "94ff7a0c",
   "metadata": {
    "editable": false,
    "execution": {
     "iopub.execute_input": "2024-04-02T15:09:58.868166Z",
     "iopub.status.busy": "2024-04-02T15:09:58.867817Z",
     "iopub.status.idle": "2024-04-02T15:23:08.375878Z",
     "shell.execute_reply": "2024-04-02T15:23:08.374819Z"
    },
    "papermill": {
     "duration": 789.591396,
     "end_time": "2024-04-02T15:23:08.419987",
     "exception": false,
     "start_time": "2024-04-02T15:09:58.828591",
     "status": "completed"
    },
    "tags": []
   },
   "outputs": [
    {
     "name": "stdout",
     "output_type": "stream",
     "text": [
      "Training CNN-ResNet:\n",
      "Epoch 1, Loss: 1.716249517640289, Accuracy: 38.03%\n",
      "Epoch 2, Loss: 1.0562654234925095, Accuracy: 62.20%\n",
      "Epoch 3, Loss: 0.8135178517930362, Accuracy: 71.00%\n",
      "Epoch 4, Loss: 0.6946366620915276, Accuracy: 75.52%\n",
      "Epoch 5, Loss: 0.6113822673048291, Accuracy: 78.44%\n",
      "Epoch 6, Loss: 0.5450797079473125, Accuracy: 80.72%\n",
      "Epoch 7, Loss: 0.4948194086247561, Accuracy: 82.68%\n",
      "Epoch 8, Loss: 0.4304427577524769, Accuracy: 84.86%\n",
      "Epoch 9, Loss: 0.38999188752198705, Accuracy: 86.36%\n",
      "Epoch 10, Loss: 0.3405202496416715, Accuracy: 88.02%\n",
      "Epoch 11, Loss: 0.310495563763745, Accuracy: 89.09%\n",
      "Epoch 12, Loss: 0.27222645244732196, Accuracy: 90.50%\n",
      "Epoch 13, Loss: 0.23610865590827806, Accuracy: 91.74%\n",
      "Epoch 14, Loss: 0.20821544771291772, Accuracy: 92.74%\n",
      "Epoch 15, Loss: 0.17024721114002928, Accuracy: 94.10%\n",
      "Epoch 16, Loss: 0.14333442940699812, Accuracy: 95.08%\n",
      "Epoch 17, Loss: 0.1280945577107522, Accuracy: 95.52%\n",
      "Epoch 18, Loss: 0.1094867550596899, Accuracy: 96.26%\n",
      "Epoch 19, Loss: 0.09827825022215138, Accuracy: 96.61%\n",
      "Epoch 20, Loss: 0.08303498060499527, Accuracy: 97.12%\n",
      "Epoch 21, Loss: 0.08076921050265735, Accuracy: 97.27%\n",
      "Epoch 22, Loss: 0.05619203626197212, Accuracy: 98.21%\n",
      "Epoch 23, Loss: 0.05717809548677535, Accuracy: 98.08%\n",
      "Epoch 24, Loss: 0.06290908976058875, Accuracy: 97.83%\n",
      "Epoch 25, Loss: 0.05541837317108804, Accuracy: 98.11%\n",
      "Epoch 26, Loss: 0.0691060817857482, Accuracy: 97.58%\n",
      "Epoch 27, Loss: 0.042740233831715824, Accuracy: 98.50%\n",
      "Epoch 28, Loss: 0.029467563969273195, Accuracy: 99.09%\n",
      "Epoch 29, Loss: 0.0771889643867177, Accuracy: 97.23%\n",
      "Epoch 30, Loss: 0.06329487859062394, Accuracy: 97.84%\n",
      "Epoch 31, Loss: 0.027577336792054832, Accuracy: 99.10%\n",
      "Epoch 32, Loss: 0.04719946364282954, Accuracy: 98.36%\n",
      "Epoch 33, Loss: 0.041625327302371055, Accuracy: 98.56%\n",
      "Epoch 34, Loss: 0.030954514378301646, Accuracy: 98.95%\n",
      "Epoch 35, Loss: 0.022406738879852832, Accuracy: 99.26%\n",
      "Epoch 36, Loss: 0.03724370177892246, Accuracy: 98.65%\n",
      "Epoch 37, Loss: 0.05919465341852331, Accuracy: 97.88%\n",
      "Epoch 38, Loss: 0.06673855322166061, Accuracy: 97.59%\n",
      "Epoch 39, Loss: 0.034846086159576566, Accuracy: 98.69%\n",
      "Epoch 40, Loss: 0.011498436848490442, Accuracy: 99.66%\n",
      "Epoch 41, Loss: 0.002871070192575607, Accuracy: 99.97%\n",
      "Epoch 42, Loss: 0.0010922180543052585, Accuracy: 100.00%\n",
      "Epoch 43, Loss: 0.0004694727182623512, Accuracy: 100.00%\n",
      "Epoch 44, Loss: 0.0003841746695296915, Accuracy: 100.00%\n",
      "Epoch 45, Loss: 0.00032383242937705325, Accuracy: 100.00%\n",
      "Epoch 46, Loss: 0.0002732637829987133, Accuracy: 100.00%\n",
      "Epoch 47, Loss: 0.0002430074601223317, Accuracy: 100.00%\n",
      "Epoch 48, Loss: 0.00021442083316844442, Accuracy: 100.00%\n",
      "Epoch 49, Loss: 0.0001951537095901214, Accuracy: 100.00%\n",
      "Epoch 50, Loss: 0.00016967222227878888, Accuracy: 100.00%\n"
     ]
    }
   ],
   "source": [
    "# Train CNN-ResNet\n",
    "print(\"Training CNN-ResNet:\")\n",
    "train_accuracy_resnet = train_model(cnn_resnet, trainloader, criterion, optimizer_resnet)"
   ]
  },
  {
   "cell_type": "markdown",
   "id": "582a23ce",
   "metadata": {
    "editable": false,
    "papermill": {
     "duration": 0.041995,
     "end_time": "2024-04-02T15:23:08.504404",
     "exception": false,
     "start_time": "2024-04-02T15:23:08.462409",
     "status": "completed"
    },
    "tags": []
   },
   "source": [
    "# Experiment 1"
   ]
  },
  {
   "cell_type": "markdown",
   "id": "94c7dbc0",
   "metadata": {
    "editable": false,
    "papermill": {
     "duration": 0.041892,
     "end_time": "2024-04-02T15:23:08.588492",
     "exception": false,
     "start_time": "2024-04-02T15:23:08.546600",
     "status": "completed"
    },
    "tags": []
   },
   "source": [
    "### Plotting Training accuracy vs Epochs of CNN-Resnet and CNN-Vanilla"
   ]
  },
  {
   "cell_type": "code",
   "execution_count": 10,
   "id": "87312e45",
   "metadata": {
    "editable": false,
    "execution": {
     "iopub.execute_input": "2024-04-02T15:23:08.674782Z",
     "iopub.status.busy": "2024-04-02T15:23:08.674391Z",
     "iopub.status.idle": "2024-04-02T15:23:08.907907Z",
     "shell.execute_reply": "2024-04-02T15:23:08.906866Z"
    },
    "papermill": {
     "duration": 0.279052,
     "end_time": "2024-04-02T15:23:08.909986",
     "exception": false,
     "start_time": "2024-04-02T15:23:08.630934",
     "status": "completed"
    },
    "tags": []
   },
   "outputs": [
    {
     "data": {
      "image/png": "[encoded data removed]",
      "text/plain": [
       "<Figure size 640x480 with 1 Axes>"
      ]
     },
     "metadata": {},
     "output_type": "display_data"
    }
   ],
   "source": [
    "# Plotting training accuracy vs. epochs\n",
    "plt.plot(range(1, len(train_accuracy_vanilla) + 1), train_accuracy_vanilla, label='CNN-Vanilla')\n",
    "plt.plot(range(1, len(train_accuracy_resnet) + 1), train_accuracy_resnet, label='CNN-ResNet')\n",
    "plt.xlabel('Epochs')\n",
    "plt.ylabel('Training Accuracy')\n",
    "plt.title('Training Accuracy vs. Epochs')\n",
    "plt.legend()\n",
    "plt.grid(True)\n",
    "plt.show()"
   ]
  },
  {
   "cell_type": "markdown",
   "id": "0856afa1",
   "metadata": {
    "editable": false,
    "papermill": {
     "duration": 0.043081,
     "end_time": "2024-04-02T15:23:08.996877",
     "exception": false,
     "start_time": "2024-04-02T15:23:08.953796",
     "status": "completed"
    },
    "tags": []
   },
   "source": [
    "### Evaluating Model Accuracy on Test Data"
   ]
  },
  {
   "cell_type": "code",
   "execution_count": 11,
   "id": "5b3cf2ad",
   "metadata": {
    "editable": false,
    "execution": {
     "iopub.execute_input": "2024-04-02T15:23:09.084273Z",
     "iopub.status.busy": "2024-04-02T15:23:09.083912Z",
     "iopub.status.idle": "2024-04-02T15:23:13.770604Z",
     "shell.execute_reply": "2024-04-02T15:23:13.769525Z"
    },
    "papermill": {
     "duration": 4.733112,
     "end_time": "2024-04-02T15:23:13.773068",
     "exception": false,
     "start_time": "2024-04-02T15:23:09.039956",
     "status": "completed"
    },
    "tags": []
   },
   "outputs": [
    {
     "name": "stdout",
     "output_type": "stream",
     "text": [
      "Accuracy of CNN-Vanilla on the test set: 81.18%\n",
      "Accuracy of CNN-ResNet on the test set: 83.44%\n"
     ]
    }
   ],
   "source": [
    "# Define function to evaluate model\n",
    "def evaluate_model(model, testloader):\n",
    "    model.eval()  # Set the model to evaluation mode\n",
    "    correct = 0  # Initialize number of correct predictions\n",
    "    total = 0  # Initialize total number of predictions\n",
    "    with torch.no_grad():\n",
    "        for data in testloader:\n",
    "            images, labels = data[0].to(device), data[1].to(device)  # Get images and labels\n",
    "            outputs = model(images)  # Forward pass\n",
    "            _, predicted = torch.max(outputs, 1)  # Get predicted labels\n",
    "            total += labels.size(0)  # Increment total predictions\n",
    "            correct += (predicted == labels).sum().item()  # Increment correct predictions\n",
    "\n",
    "    accuracy = 100 * correct / total  # Compute accuracy\n",
    "    return accuracy  # Return accuracy\n",
    "\n",
    "# Evaluate CNN-Vanilla\n",
    "accuracy_vanilla = evaluate_model(cnn_vanilla, testloader)\n",
    "print(f'Accuracy of CNN-Vanilla on the test set: {accuracy_vanilla:.2f}%')\n",
    "\n",
    "# Evaluate CNN-ResNet\n",
    "accuracy_resnet = evaluate_model(cnn_resnet, testloader)\n",
    "print(f'Accuracy of CNN-ResNet on the test set: {accuracy_resnet:.2f}%')\n"
   ]
  },
  {
   "cell_type": "markdown",
   "id": "883d2df5",
   "metadata": {
    "editable": false,
    "papermill": {
     "duration": 0.043401,
     "end_time": "2024-04-02T15:23:13.861037",
     "exception": false,
     "start_time": "2024-04-02T15:23:13.817636",
     "status": "completed"
    },
    "tags": []
   },
   "source": []
  },
  {
   "cell_type": "markdown",
   "id": "98f27167",
   "metadata": {
    "editable": false,
    "papermill": {
     "duration": 0.043313,
     "end_time": "2024-04-02T15:23:13.947319",
     "exception": false,
     "start_time": "2024-04-02T15:23:13.904006",
     "status": "completed"
    },
    "tags": []
   },
   "source": [
    "### Comparing number of Parameters and Performance"
   ]
  },
  {
   "cell_type": "code",
   "execution_count": 12,
   "id": "0f94c88e",
   "metadata": {
    "editable": false,
    "execution": {
     "iopub.execute_input": "2024-04-02T15:23:14.037301Z",
     "iopub.status.busy": "2024-04-02T15:23:14.036905Z",
     "iopub.status.idle": "2024-04-02T15:23:14.044315Z",
     "shell.execute_reply": "2024-04-02T15:23:14.043431Z"
    },
    "papermill": {
     "duration": 0.055147,
     "end_time": "2024-04-02T15:23:14.046845",
     "exception": false,
     "start_time": "2024-04-02T15:23:13.991698",
     "status": "completed"
    },
    "tags": []
   },
   "outputs": [
    {
     "name": "stdout",
     "output_type": "stream",
     "text": [
      "Number of parameters in CNN-Vanilla: 730122\n",
      "Number of parameters in CNN-ResNet: 732298\n",
      "Accuracy of CNN-Vanilla on the test set: 81.18%\n",
      "Accuracy of CNN-ResNet on the test set: 83.44%\n",
      "CNN-ResNet performs better on the given problem.\n"
     ]
    }
   ],
   "source": [
    "# Comparing number of parameters and performances\n",
    "print(\"Number of parameters in CNN-Vanilla:\", sum(p.numel() for p in cnn_vanilla.parameters()))\n",
    "print(\"Number of parameters in CNN-ResNet:\", sum(p.numel() for p in cnn_resnet.parameters()))\n",
    "\n",
    "print(f'Accuracy of CNN-Vanilla on the test set: {accuracy_vanilla:.2f}%')\n",
    "print(f'Accuracy of CNN-ResNet on the test set: {accuracy_resnet:.2f}%')\n",
    "\n",
    "# Compare accuracies of CNN-Vanilla and CNN-ResNet\n",
    "if accuracy_vanilla > accuracy_resnet:\n",
    "    print(\"CNN-Vanilla performs better on the given problem.\")\n",
    "elif accuracy_vanilla < accuracy_resnet:\n",
    "    print(\"CNN-ResNet performs better on the given problem.\")\n",
    "else:\n",
    "    print(\"Both CNN-Vanilla and CNN-ResNet perform equally well on the given problem.\")\n"
   ]
  },
  {
   "cell_type": "markdown",
   "id": "444ce189",
   "metadata": {
    "editable": false,
    "papermill": {
     "duration": 0.043045,
     "end_time": "2024-04-02T15:23:14.133406",
     "exception": false,
     "start_time": "2024-04-02T15:23:14.090361",
     "status": "completed"
    },
    "tags": []
   },
   "source": [
    "## CNN-Resnet is the Winner !!\n",
    "We will use CNN-Resnet for further analysis from here on"
   ]
  },
  {
   "cell_type": "markdown",
   "id": "4d3c1df2",
   "metadata": {
    "editable": false,
    "papermill": {
     "duration": 0.044248,
     "end_time": "2024-04-02T15:23:14.221254",
     "exception": false,
     "start_time": "2024-04-02T15:23:14.177006",
     "status": "completed"
    },
    "tags": []
   },
   "source": [
    "# Experiment 2 : Study the Effect of Data Normalization"
   ]
  },
  {
   "cell_type": "markdown",
   "id": "481d23d1",
   "metadata": {
    "editable": false,
    "papermill": {
     "duration": 0.04475,
     "end_time": "2024-04-02T15:23:14.312375",
     "exception": false,
     "start_time": "2024-04-02T15:23:14.267625",
     "status": "completed"
    },
    "tags": []
   },
   "source": [
    "### Loading Data without Normalization"
   ]
  },
  {
   "cell_type": "code",
   "execution_count": 13,
   "id": "56a4d0b7",
   "metadata": {
    "editable": false,
    "execution": {
     "iopub.execute_input": "2024-04-02T15:23:14.400891Z",
     "iopub.status.busy": "2024-04-02T15:23:14.400540Z",
     "iopub.status.idle": "2024-04-02T15:23:16.333951Z",
     "shell.execute_reply": "2024-04-02T15:23:16.333135Z"
    },
    "papermill": {
     "duration": 1.979778,
     "end_time": "2024-04-02T15:23:16.336007",
     "exception": false,
     "start_time": "2024-04-02T15:23:14.356229",
     "status": "completed"
    },
    "tags": []
   },
   "outputs": [
    {
     "name": "stdout",
     "output_type": "stream",
     "text": [
      "Files already downloaded and verified\n",
      "Files already downloaded and verified\n",
      "Sample images from the train set:\n"
     ]
    },
    {
     "data": {
      "image/png": "[encoded data removed]",
      "text/plain": [
       "<Figure size 1200x300 with 5 Axes>"
      ]
     },
     "metadata": {},
     "output_type": "display_data"
    }
   ],
   "source": [
    "# Define normalization transformations\n",
    "transform_without_norm = transforms.Compose([\n",
    "    transforms.ToTensor() , # Convert PIL image to PyTorch tensor\n",
    "])\n",
    "\n",
    "# Define CIFAR-10 train and test datasets with the specified transformations\n",
    "trainset_without_norm = CIFAR10(root='./data', train=True, download=True, transform=transform_without_norm )\n",
    "testset_without_norm = CIFAR10(root='./data', train=False, download=True, transform=transform_without_norm )\n",
    "\n",
    "# Display sample images from the train set\n",
    "print(\"Sample images from the train set:\")\n",
    "show_samples(trainset_without_norm)"
   ]
  },
  {
   "cell_type": "markdown",
   "id": "8b8f7f44",
   "metadata": {
    "editable": false,
    "papermill": {
     "duration": 0.051133,
     "end_time": "2024-04-02T15:23:16.437748",
     "exception": false,
     "start_time": "2024-04-02T15:23:16.386615",
     "status": "completed"
    },
    "tags": []
   },
   "source": [
    "### Initializing and Training unnormalized model"
   ]
  },
  {
   "cell_type": "code",
   "execution_count": 14,
   "id": "92b4c7e5",
   "metadata": {
    "editable": false,
    "execution": {
     "iopub.execute_input": "2024-04-02T15:23:16.536056Z",
     "iopub.status.busy": "2024-04-02T15:23:16.535710Z",
     "iopub.status.idle": "2024-04-02T15:32:41.057656Z",
     "shell.execute_reply": "2024-04-02T15:32:41.056526Z"
    },
    "papermill": {
     "duration": 564.571025,
     "end_time": "2024-04-02T15:32:41.059930",
     "exception": false,
     "start_time": "2024-04-02T15:23:16.488905",
     "status": "completed"
    },
    "tags": []
   },
   "outputs": [
    {
     "name": "stdout",
     "output_type": "stream",
     "text": [
      "Epoch 1, Loss: 1.7157695457643392, Accuracy: 39.36%\n",
      "Epoch 2, Loss: 1.091723837110461, Accuracy: 60.73%\n",
      "Epoch 3, Loss: 0.8653193602756578, Accuracy: 69.61%\n",
      "Epoch 4, Loss: 0.7276378720998764, Accuracy: 74.28%\n",
      "Epoch 5, Loss: 0.635449755252624, Accuracy: 77.74%\n",
      "Epoch 6, Loss: 0.5555838235482877, Accuracy: 80.64%\n",
      "Epoch 7, Loss: 0.5058531783977334, Accuracy: 82.23%\n",
      "Epoch 8, Loss: 0.4495897499882445, Accuracy: 84.15%\n",
      "Epoch 9, Loss: 0.4065931074473323, Accuracy: 85.75%\n",
      "Epoch 10, Loss: 0.3545134026481181, Accuracy: 87.65%\n",
      "Epoch 11, Loss: 0.31258584285268975, Accuracy: 89.02%\n",
      "Epoch 12, Loss: 0.27706907377863416, Accuracy: 90.19%\n",
      "Epoch 13, Loss: 0.24660410960109866, Accuracy: 91.27%\n",
      "Epoch 14, Loss: 0.2145253999576885, Accuracy: 92.40%\n",
      "Epoch 15, Loss: 0.19238868773895867, Accuracy: 93.21%\n",
      "Epoch 16, Loss: 0.15675921342810806, Accuracy: 94.54%\n",
      "Epoch 17, Loss: 0.13522299987320996, Accuracy: 95.28%\n",
      "Epoch 18, Loss: 0.10999178658334577, Accuracy: 96.24%\n",
      "Epoch 19, Loss: 0.10439735554082662, Accuracy: 96.34%\n",
      "Epoch 20, Loss: 0.08473569360010479, Accuracy: 97.19%\n",
      "Epoch 21, Loss: 0.08491305594465562, Accuracy: 97.11%\n",
      "Epoch 22, Loss: 0.08062212633881338, Accuracy: 97.15%\n",
      "Epoch 23, Loss: 0.05721929786270674, Accuracy: 98.06%\n",
      "Epoch 24, Loss: 0.06199300152306654, Accuracy: 97.89%\n",
      "Epoch 25, Loss: 0.06858262087085418, Accuracy: 97.58%\n",
      "Epoch 26, Loss: 0.06388419966346451, Accuracy: 97.83%\n",
      "Epoch 27, Loss: 0.06448778579467718, Accuracy: 97.83%\n",
      "Epoch 28, Loss: 0.0551265484026196, Accuracy: 98.06%\n",
      "Epoch 29, Loss: 0.03917368808856272, Accuracy: 98.61%\n",
      "Epoch 30, Loss: 0.0441871886426697, Accuracy: 98.49%\n",
      "Epoch 31, Loss: 0.06440966737893772, Accuracy: 97.67%\n",
      "Epoch 32, Loss: 0.058965247870441904, Accuracy: 97.85%\n",
      "Epoch 33, Loss: 0.031355829548318774, Accuracy: 98.95%\n",
      "Epoch 34, Loss: 0.028170231606203074, Accuracy: 99.03%\n",
      "Epoch 35, Loss: 0.05484163937424975, Accuracy: 98.07%\n",
      "Epoch 36, Loss: 0.04811883659330102, Accuracy: 98.25%\n",
      "Epoch 37, Loss: 0.050754063546524515, Accuracy: 98.20%\n",
      "Epoch 38, Loss: 0.03197719821022177, Accuracy: 98.90%\n",
      "Epoch 39, Loss: 0.023178729456754362, Accuracy: 99.20%\n",
      "Epoch 40, Loss: 0.022122040556088015, Accuracy: 99.26%\n",
      "Epoch 41, Loss: 0.01910163154611744, Accuracy: 99.34%\n",
      "Epoch 42, Loss: 0.054035610726046165, Accuracy: 98.07%\n",
      "Epoch 43, Loss: 0.10087806556601914, Accuracy: 96.59%\n",
      "Epoch 44, Loss: 0.03590187505932943, Accuracy: 98.75%\n",
      "Epoch 45, Loss: 0.0170390751243721, Accuracy: 99.46%\n",
      "Epoch 46, Loss: 0.0049729401668015755, Accuracy: 99.89%\n",
      "Epoch 47, Loss: 0.001011169149376433, Accuracy: 100.00%\n",
      "Epoch 48, Loss: 0.0004553200047592661, Accuracy: 100.00%\n",
      "Epoch 49, Loss: 0.00032138548793190407, Accuracy: 100.00%\n",
      "Epoch 50, Loss: 0.0002691998377820116, Accuracy: 100.00%\n"
     ]
    }
   ],
   "source": [
    "# Create an instance of CNNResNet model without normalization\n",
    "cnn_resnet_without_norm = CNNResNet()\n",
    "cnn_resnet_without_norm.to(device)  # Move model to device\n",
    "\n",
    "# Define optimizer for CNN-ResNet without normalization\n",
    "optimizer_resnet_without_norm = optim.Adam(cnn_resnet_without_norm.parameters(), lr=0.001)\n",
    "\n",
    "# Define data loaders for CNN-ResNet without normalization\n",
    "trainloader_without_norm = DataLoader(trainset_without_norm, batch_size=256, shuffle=True)\n",
    "testloader_without_norm = DataLoader(testset_without_norm, batch_size=256, shuffle=False)\n",
    "\n",
    "# Train CNN-ResNet without data normalization\n",
    "train_accuracy_resnet_unnormalized = train_model(cnn_resnet_without_norm, trainloader_without_norm, criterion, optimizer_resnet_without_norm)\n"
   ]
  },
  {
   "cell_type": "markdown",
   "id": "6d3ffac1",
   "metadata": {
    "editable": false,
    "papermill": {
     "duration": 0.047678,
     "end_time": "2024-04-02T15:32:41.157673",
     "exception": false,
     "start_time": "2024-04-02T15:32:41.109995",
     "status": "completed"
    },
    "tags": []
   },
   "source": [
    "### Plotting Training accuracy vs Epochs for CNN-Resnet with and without normalization"
   ]
  },
  {
   "cell_type": "code",
   "execution_count": 15,
   "id": "39e2c578",
   "metadata": {
    "editable": false,
    "execution": {
     "iopub.execute_input": "2024-04-02T15:32:41.256609Z",
     "iopub.status.busy": "2024-04-02T15:32:41.256253Z",
     "iopub.status.idle": "2024-04-02T15:32:41.500496Z",
     "shell.execute_reply": "2024-04-02T15:32:41.499606Z"
    },
    "papermill": {
     "duration": 0.297339,
     "end_time": "2024-04-02T15:32:41.502770",
     "exception": false,
     "start_time": "2024-04-02T15:32:41.205431",
     "status": "completed"
    },
    "tags": []
   },
   "outputs": [
    {
     "data": {
      "image/png": "[encoded data removed]",
      "text/plain": [
       "<Figure size 640x480 with 1 Axes>"
      ]
     },
     "metadata": {},
     "output_type": "display_data"
    }
   ],
   "source": [
    "# Plotting training accuracy vs. epochs for both cases\n",
    "plt.plot(range(1, len(train_accuracy_resnet) + 1), train_accuracy_resnet, label='With Normalization')\n",
    "plt.plot(range(1, len(train_accuracy_resnet_unnormalized) + 1), train_accuracy_resnet_unnormalized, label='Without Normalization')\n",
    "plt.xlabel('Epochs')\n",
    "plt.ylabel('Training Accuracy')\n",
    "plt.title('Training Accuracy vs. Epochs (CNN-ResNet)')\n",
    "plt.legend()\n",
    "plt.grid(True)\n",
    "plt.show()"
   ]
  },
  {
   "cell_type": "markdown",
   "id": "81011a8a",
   "metadata": {
    "editable": false,
    "papermill": {
     "duration": 0.094302,
     "end_time": "2024-04-02T15:32:41.646840",
     "exception": false,
     "start_time": "2024-04-02T15:32:41.552538",
     "status": "completed"
    },
    "tags": []
   },
   "source": [
    "### Evaluating CNN-Resent accuracy on test data with and without Data Normalization"
   ]
  },
  {
   "cell_type": "code",
   "execution_count": 16,
   "id": "e2785e89",
   "metadata": {
    "editable": false,
    "execution": {
     "iopub.execute_input": "2024-04-02T15:32:41.746189Z",
     "iopub.status.busy": "2024-04-02T15:32:41.745778Z",
     "iopub.status.idle": "2024-04-02T15:32:45.663298Z",
     "shell.execute_reply": "2024-04-02T15:32:45.662077Z"
    },
    "papermill": {
     "duration": 3.969622,
     "end_time": "2024-04-02T15:32:45.665421",
     "exception": false,
     "start_time": "2024-04-02T15:32:41.695799",
     "status": "completed"
    },
    "tags": []
   },
   "outputs": [
    {
     "name": "stdout",
     "output_type": "stream",
     "text": [
      "Accuracy of CNN-ResNet with data normalization on the test set: 83.44%\n",
      "Accuracy of CNN-ResNet without data normalization on the test set: 83.05%\n"
     ]
    }
   ],
   "source": [
    "# Evaluate CNN-ResNet with data normalization\n",
    "accuracy_resnet_normalized = evaluate_model(cnn_resnet, testloader)\n",
    "print(f'Accuracy of CNN-ResNet with data normalization on the test set: {accuracy_resnet_normalized:.2f}%')\n",
    "\n",
    "# Evaluate CNN-ResNet without data normalization\n",
    "accuracy_resnet_unnormalized = evaluate_model(cnn_resnet_without_norm, testloader_without_norm)\n",
    "print(f'Accuracy of CNN-ResNet without data normalization on the test set: {accuracy_resnet_unnormalized:.2f}%')"
   ]
  },
  {
   "cell_type": "markdown",
   "id": "61b248a5",
   "metadata": {
    "editable": false,
    "papermill": {
     "duration": 0.049548,
     "end_time": "2024-04-02T15:32:45.764436",
     "exception": false,
     "start_time": "2024-04-02T15:32:45.714888",
     "status": "completed"
    },
    "tags": []
   },
   "source": [
    "## We are getting better accuracy with Data Normalization !!"
   ]
  },
  {
   "cell_type": "markdown",
   "id": "ed74df06",
   "metadata": {
    "editable": false,
    "papermill": {
     "duration": 0.048536,
     "end_time": "2024-04-02T15:32:45.861750",
     "exception": false,
     "start_time": "2024-04-02T15:32:45.813214",
     "status": "completed"
    },
    "tags": []
   },
   "source": [
    "# Experiment 3: Study the Effect of Different Optimizers\n",
    "Best network : CNN-Resnet & \n",
    "Best choice of Data Normalization : With Normalization "
   ]
  },
  {
   "cell_type": "markdown",
   "id": "6af327a3",
   "metadata": {
    "editable": false,
    "papermill": {
     "duration": 0.050333,
     "end_time": "2024-04-02T15:32:45.960530",
     "exception": false,
     "start_time": "2024-04-02T15:32:45.910197",
     "status": "completed"
    },
    "tags": []
   },
   "source": [
    "### Defining models and its optimizers"
   ]
  },
  {
   "cell_type": "code",
   "execution_count": 17,
   "id": "27f50fc2",
   "metadata": {
    "editable": false,
    "execution": {
     "iopub.execute_input": "2024-04-02T15:32:46.062939Z",
     "iopub.status.busy": "2024-04-02T15:32:46.062575Z",
     "iopub.status.idle": "2024-04-02T15:32:46.113964Z",
     "shell.execute_reply": "2024-04-02T15:32:46.113257Z"
    },
    "papermill": {
     "duration": 0.104682,
     "end_time": "2024-04-02T15:32:46.115922",
     "exception": false,
     "start_time": "2024-04-02T15:32:46.011240",
     "status": "completed"
    },
    "tags": []
   },
   "outputs": [],
   "source": [
    "# Define models and optimizers\n",
    "cnn_resnet_sgd = CNNResNet().to(device)\n",
    "cnn_resnet_mb_no_momentum = CNNResNet().to(device)\n",
    "cnn_resnet_mb_momentum = CNNResNet().to(device)\n",
    "cnn_resnet_adam = CNNResNet().to(device)\n",
    "\n",
    "optimizer_resnet_sgd = optim.SGD(cnn_resnet_sgd.parameters(), lr=0.001)\n",
    "optimizer_resnet_mb_no_momentum = optim.SGD(cnn_resnet_mb_no_momentum.parameters(), lr=0.001, momentum=0)\n",
    "optimizer_resnet_mb_momentum = optim.SGD(cnn_resnet_mb_momentum.parameters(), lr=0.001, momentum=0.9)\n",
    "optimizer_resnet_adam = optim.Adam(cnn_resnet_adam.parameters(), lr=0.001)\n",
    "\n",
    "# Train the models with different optimizers\n",
    "optimizers = {\n",
    "    'SGD': optimizer_resnet_sgd,\n",
    "    'Mini-batch (No Momentum)': optimizer_resnet_mb_no_momentum,\n",
    "    'Mini-batch (Momentum 0.9)': optimizer_resnet_mb_momentum,\n",
    "    'Adam': optimizer_resnet_adam\n",
    "}"
   ]
  },
  {
   "cell_type": "markdown",
   "id": "c6d5c6f1",
   "metadata": {
    "editable": false,
    "papermill": {
     "duration": 0.049195,
     "end_time": "2024-04-02T15:32:46.214975",
     "exception": false,
     "start_time": "2024-04-02T15:32:46.165780",
     "status": "completed"
    },
    "tags": []
   },
   "source": [
    "### Training Models "
   ]
  },
  {
   "cell_type": "code",
   "execution_count": 18,
   "id": "0e007f1a",
   "metadata": {
    "editable": false,
    "execution": {
     "iopub.execute_input": "2024-04-02T15:32:46.316673Z",
     "iopub.status.busy": "2024-04-02T15:32:46.315816Z",
     "iopub.status.idle": "2024-04-02T16:25:23.910755Z",
     "shell.execute_reply": "2024-04-02T16:25:23.909751Z"
    },
    "papermill": {
     "duration": 3157.711972,
     "end_time": "2024-04-02T16:25:23.977202",
     "exception": false,
     "start_time": "2024-04-02T15:32:46.265230",
     "status": "completed"
    },
    "tags": []
   },
   "outputs": [
    {
     "name": "stdout",
     "output_type": "stream",
     "text": [
      "Training with SGD...\n",
      "Epoch 1, Loss: 2.0545946237992267, Accuracy: 27.14%\n",
      "Epoch 2, Loss: 1.7370506506793353, Accuracy: 38.95%\n",
      "Epoch 3, Loss: 1.5907109124319894, Accuracy: 43.57%\n",
      "Epoch 4, Loss: 1.5031792168714562, Accuracy: 46.28%\n",
      "Epoch 5, Loss: 1.4352308913153045, Accuracy: 48.70%\n",
      "Epoch 6, Loss: 1.3799043614037183, Accuracy: 50.80%\n",
      "Epoch 7, Loss: 1.3308282056633307, Accuracy: 52.57%\n",
      "Epoch 8, Loss: 1.2897619562489646, Accuracy: 54.00%\n",
      "Epoch 9, Loss: 1.2537947716761608, Accuracy: 55.34%\n",
      "Epoch 10, Loss: 1.2221538254192896, Accuracy: 56.64%\n",
      "Epoch 11, Loss: 1.1897916933711694, Accuracy: 57.85%\n",
      "Epoch 12, Loss: 1.1621300721046877, Accuracy: 58.83%\n",
      "Epoch 13, Loss: 1.13777486615035, Accuracy: 59.85%\n",
      "Epoch 14, Loss: 1.1100109809515428, Accuracy: 60.60%\n",
      "Epoch 15, Loss: 1.089289523509084, Accuracy: 61.65%\n",
      "Epoch 16, Loss: 1.0650818363136174, Accuracy: 62.51%\n",
      "Epoch 17, Loss: 1.043265971602226, Accuracy: 63.38%\n",
      "Epoch 18, Loss: 1.0218862781719285, Accuracy: 64.24%\n",
      "Epoch 19, Loss: 1.0005661376885004, Accuracy: 65.09%\n",
      "Epoch 20, Loss: 0.9816110623734338, Accuracy: 65.76%\n",
      "Epoch 21, Loss: 0.9622057104597286, Accuracy: 66.45%\n",
      "Epoch 22, Loss: 0.9427658678317556, Accuracy: 67.11%\n",
      "Epoch 23, Loss: 0.9265168753205514, Accuracy: 67.65%\n",
      "Epoch 24, Loss: 0.9105728989352986, Accuracy: 68.21%\n",
      "Epoch 25, Loss: 0.8940844684839249, Accuracy: 68.91%\n",
      "Epoch 26, Loss: 0.8790988134486335, Accuracy: 69.60%\n",
      "Epoch 27, Loss: 0.8641370309858906, Accuracy: 69.97%\n",
      "Epoch 28, Loss: 0.8511404519786641, Accuracy: 70.64%\n",
      "Epoch 29, Loss: 0.8368274688112493, Accuracy: 71.20%\n",
      "Epoch 30, Loss: 0.8237132363173426, Accuracy: 71.51%\n",
      "Epoch 31, Loss: 0.809719839874579, Accuracy: 72.00%\n",
      "Epoch 32, Loss: 0.7989862418296386, Accuracy: 72.43%\n",
      "Epoch 33, Loss: 0.7865448578888056, Accuracy: 72.96%\n",
      "Epoch 34, Loss: 0.7755397348379602, Accuracy: 73.46%\n",
      "Epoch 35, Loss: 0.7650680484212175, Accuracy: 73.69%\n",
      "Epoch 36, Loss: 0.7538520371427342, Accuracy: 74.12%\n",
      "Epoch 37, Loss: 0.7422964743205479, Accuracy: 74.48%\n",
      "Epoch 38, Loss: 0.732277896331281, Accuracy: 74.97%\n",
      "Epoch 39, Loss: 0.7224650979042053, Accuracy: 75.35%\n",
      "Epoch 40, Loss: 0.7132676298521003, Accuracy: 75.51%\n",
      "Epoch 41, Loss: 0.702472449261315, Accuracy: 75.97%\n",
      "Epoch 42, Loss: 0.6929250830898479, Accuracy: 76.43%\n",
      "Epoch 43, Loss: 0.6837100018652118, Accuracy: 76.68%\n",
      "Epoch 44, Loss: 0.6732692152869945, Accuracy: 77.10%\n",
      "Epoch 45, Loss: 0.6654870269858107, Accuracy: 77.42%\n",
      "Epoch 46, Loss: 0.6566430138690131, Accuracy: 77.76%\n",
      "Epoch 47, Loss: 0.646669693899398, Accuracy: 78.06%\n",
      "Epoch 48, Loss: 0.6379782712581207, Accuracy: 78.37%\n",
      "Epoch 49, Loss: 0.6283220438932886, Accuracy: 78.80%\n",
      "Epoch 50, Loss: 0.6215857103162882, Accuracy: 79.06%\n",
      "Training with Mini-batch (No Momentum)...\n",
      "Epoch 1, Loss: 2.034404311861311, Accuracy: 27.95%\n",
      "Epoch 2, Loss: 1.69891192718428, Accuracy: 40.33%\n",
      "Epoch 3, Loss: 1.5424378331826658, Accuracy: 44.92%\n",
      "Epoch 4, Loss: 1.448517497096743, Accuracy: 48.21%\n",
      "Epoch 5, Loss: 1.3849682637623377, Accuracy: 50.69%\n",
      "Epoch 6, Loss: 1.3339696708990603, Accuracy: 52.31%\n",
      "Epoch 7, Loss: 1.2915746168214448, Accuracy: 54.00%\n",
      "Epoch 8, Loss: 1.253823920172088, Accuracy: 55.53%\n",
      "Epoch 9, Loss: 1.2178752689945453, Accuracy: 56.80%\n",
      "Epoch 10, Loss: 1.1852627493897263, Accuracy: 58.02%\n",
      "Epoch 11, Loss: 1.156442265729515, Accuracy: 59.11%\n",
      "Epoch 12, Loss: 1.1272817247984361, Accuracy: 60.05%\n",
      "Epoch 13, Loss: 1.1026544865905021, Accuracy: 61.10%\n",
      "Epoch 14, Loss: 1.078670513264987, Accuracy: 61.93%\n",
      "Epoch 15, Loss: 1.0556376962637415, Accuracy: 62.87%\n",
      "Epoch 16, Loss: 1.033338876403108, Accuracy: 63.61%\n",
      "Epoch 17, Loss: 1.0125144875171233, Accuracy: 64.53%\n",
      "Epoch 18, Loss: 0.993788095153108, Accuracy: 65.22%\n",
      "Epoch 19, Loss: 0.9750451822670139, Accuracy: 65.97%\n",
      "Epoch 20, Loss: 0.956650477282855, Accuracy: 66.66%\n",
      "Epoch 21, Loss: 0.9393465768317787, Accuracy: 67.34%\n",
      "Epoch 22, Loss: 0.9220697052624761, Accuracy: 67.81%\n",
      "Epoch 23, Loss: 0.9055271455828025, Accuracy: 68.51%\n",
      "Epoch 24, Loss: 0.8911198827685142, Accuracy: 69.09%\n",
      "Epoch 25, Loss: 0.875911046959916, Accuracy: 69.79%\n",
      "Epoch 26, Loss: 0.8598972114981437, Accuracy: 70.29%\n",
      "Epoch 27, Loss: 0.8464243165692504, Accuracy: 70.79%\n",
      "Epoch 28, Loss: 0.8337207205441534, Accuracy: 71.20%\n",
      "Epoch 29, Loss: 0.8198838556299404, Accuracy: 71.72%\n",
      "Epoch 30, Loss: 0.8078822581743708, Accuracy: 72.27%\n",
      "Epoch 31, Loss: 0.7963518877418674, Accuracy: 72.62%\n",
      "Epoch 32, Loss: 0.7840469065977602, Accuracy: 73.08%\n",
      "Epoch 33, Loss: 0.7730727615405102, Accuracy: 73.55%\n",
      "Epoch 34, Loss: 0.7625053190455144, Accuracy: 73.95%\n",
      "Epoch 35, Loss: 0.7505697757005692, Accuracy: 74.28%\n",
      "Epoch 36, Loss: 0.7398905294890307, Accuracy: 74.72%\n",
      "Epoch 37, Loss: 0.72981973266115, Accuracy: 75.11%\n",
      "Epoch 38, Loss: 0.7206759693063035, Accuracy: 75.46%\n",
      "Epoch 39, Loss: 0.70976701530875, Accuracy: 75.85%\n",
      "Epoch 40, Loss: 0.7012529531303717, Accuracy: 76.16%\n",
      "Epoch 41, Loss: 0.6906286146567793, Accuracy: 76.60%\n",
      "Epoch 42, Loss: 0.6819156858385825, Accuracy: 76.83%\n",
      "Epoch 43, Loss: 0.6727994844621542, Accuracy: 77.36%\n",
      "Epoch 44, Loss: 0.6628139605935739, Accuracy: 77.59%\n",
      "Epoch 45, Loss: 0.6552542223005878, Accuracy: 77.95%\n",
      "Epoch 46, Loss: 0.645949910185775, Accuracy: 78.34%\n",
      "Epoch 47, Loss: 0.6375836696551771, Accuracy: 78.57%\n",
      "Epoch 48, Loss: 0.6293380265029109, Accuracy: 78.80%\n",
      "Epoch 49, Loss: 0.6203707220907114, Accuracy: 79.18%\n",
      "Epoch 50, Loss: 0.6128822446477656, Accuracy: 79.45%\n",
      "Training with Mini-batch (Momentum 0.9)...\n",
      "Epoch 1, Loss: 1.633762739142593, Accuracy: 40.88%\n",
      "Epoch 2, Loss: 1.2091521730228347, Accuracy: 56.72%\n",
      "Epoch 3, Loss: 1.0428583229682884, Accuracy: 63.16%\n",
      "Epoch 4, Loss: 0.9297370585251827, Accuracy: 67.21%\n",
      "Epoch 5, Loss: 0.8461681546605363, Accuracy: 70.37%\n",
      "Epoch 6, Loss: 0.7620434025112464, Accuracy: 73.42%\n",
      "Epoch 7, Loss: 0.7069998818392657, Accuracy: 75.32%\n",
      "Epoch 8, Loss: 0.6538905449667756, Accuracy: 77.25%\n",
      "Epoch 9, Loss: 0.5996126529513573, Accuracy: 79.26%\n",
      "Epoch 10, Loss: 0.5587792630706515, Accuracy: 80.94%\n",
      "Epoch 11, Loss: 0.5112761228668447, Accuracy: 82.33%\n",
      "Epoch 12, Loss: 0.4741516634821892, Accuracy: 83.83%\n",
      "Epoch 13, Loss: 0.43492967468135213, Accuracy: 85.46%\n",
      "Epoch 14, Loss: 0.39476940689646467, Accuracy: 86.94%\n",
      "Epoch 15, Loss: 0.36122692460004163, Accuracy: 88.09%\n",
      "Epoch 16, Loss: 0.3186806301985468, Accuracy: 89.69%\n",
      "Epoch 17, Loss: 0.2823961501066782, Accuracy: 91.04%\n",
      "Epoch 18, Loss: 0.24923321445073401, Accuracy: 92.38%\n",
      "Epoch 19, Loss: 0.22616889335367144, Accuracy: 93.20%\n",
      "Epoch 20, Loss: 0.19555528001973824, Accuracy: 94.33%\n",
      "Epoch 21, Loss: 0.16303114353546075, Accuracy: 95.71%\n",
      "Epoch 22, Loss: 0.13173523465437548, Accuracy: 96.95%\n",
      "Epoch 23, Loss: 0.11678457883547763, Accuracy: 97.43%\n",
      "Epoch 24, Loss: 0.09468582892144213, Accuracy: 98.16%\n",
      "Epoch 25, Loss: 0.07725029927203242, Accuracy: 98.75%\n",
      "Epoch 26, Loss: 0.06242137094389419, Accuracy: 99.24%\n",
      "Epoch 27, Loss: 0.051021127619457485, Accuracy: 99.52%\n",
      "Epoch 28, Loss: 0.03852621520090164, Accuracy: 99.76%\n",
      "Epoch 29, Loss: 0.032243484393598476, Accuracy: 99.87%\n",
      "Epoch 30, Loss: 0.025674108691437512, Accuracy: 99.94%\n",
      "Epoch 31, Loss: 0.021689879688985492, Accuracy: 99.95%\n",
      "Epoch 32, Loss: 0.018970612816664637, Accuracy: 99.98%\n",
      "Epoch 33, Loss: 0.016224800875144347, Accuracy: 99.99%\n",
      "Epoch 34, Loss: 0.014302394628448754, Accuracy: 99.99%\n",
      "Epoch 35, Loss: 0.012644677166351858, Accuracy: 100.00%\n",
      "Epoch 36, Loss: 0.01135346014527794, Accuracy: 100.00%\n",
      "Epoch 37, Loss: 0.010369323645433297, Accuracy: 100.00%\n",
      "Epoch 38, Loss: 0.009505563227896939, Accuracy: 100.00%\n",
      "Epoch 39, Loss: 0.008864656805859081, Accuracy: 100.00%\n",
      "Epoch 40, Loss: 0.008104422538332184, Accuracy: 100.00%\n",
      "Epoch 41, Loss: 0.007503012126330666, Accuracy: 100.00%\n",
      "Epoch 42, Loss: 0.00701947274560831, Accuracy: 100.00%\n",
      "Epoch 43, Loss: 0.006595719458383261, Accuracy: 100.00%\n",
      "Epoch 44, Loss: 0.006101986573895021, Accuracy: 100.00%\n",
      "Epoch 45, Loss: 0.005829849729447493, Accuracy: 100.00%\n",
      "Epoch 46, Loss: 0.005521861370652914, Accuracy: 100.00%\n",
      "Epoch 47, Loss: 0.005126421408708759, Accuracy: 100.00%\n",
      "Epoch 48, Loss: 0.004917639694936878, Accuracy: 100.00%\n",
      "Epoch 49, Loss: 0.004731824252117729, Accuracy: 100.00%\n",
      "Epoch 50, Loss: 0.004442669180392915, Accuracy: 100.00%\n",
      "Training with Adam...\n",
      "Epoch 1, Loss: 1.5645815276977968, Accuracy: 44.33%\n",
      "Epoch 2, Loss: 0.9788507244416645, Accuracy: 65.05%\n",
      "Epoch 3, Loss: 0.7681718569020836, Accuracy: 72.99%\n",
      "Epoch 4, Loss: 0.6550643933670861, Accuracy: 77.14%\n",
      "Epoch 5, Loss: 0.5685450535039512, Accuracy: 80.02%\n",
      "Epoch 6, Loss: 0.5013405627438, Accuracy: 82.61%\n",
      "Epoch 7, Loss: 0.44722384700969775, Accuracy: 84.47%\n",
      "Epoch 8, Loss: 0.40209355615839665, Accuracy: 85.95%\n",
      "Epoch 9, Loss: 0.3438144090528391, Accuracy: 88.03%\n",
      "Epoch 10, Loss: 0.3081318628879226, Accuracy: 89.17%\n",
      "Epoch 11, Loss: 0.2617337352463177, Accuracy: 90.88%\n",
      "Epoch 12, Loss: 0.22945645679624713, Accuracy: 91.99%\n",
      "Epoch 13, Loss: 0.19478401819206015, Accuracy: 93.37%\n",
      "Epoch 14, Loss: 0.16965592432082915, Accuracy: 94.03%\n",
      "Epoch 15, Loss: 0.14485963010134137, Accuracy: 94.85%\n",
      "Epoch 16, Loss: 0.11429925707682055, Accuracy: 96.07%\n",
      "Epoch 17, Loss: 0.09787083493203533, Accuracy: 96.66%\n",
      "Epoch 18, Loss: 0.09466328528918783, Accuracy: 96.60%\n",
      "Epoch 19, Loss: 0.06960165166125006, Accuracy: 97.68%\n",
      "Epoch 20, Loss: 0.08105295455577421, Accuracy: 97.10%\n",
      "Epoch 21, Loss: 0.06912870612945787, Accuracy: 97.60%\n",
      "Epoch 22, Loss: 0.06953168182386732, Accuracy: 97.56%\n",
      "Epoch 23, Loss: 0.07238940196111798, Accuracy: 97.46%\n",
      "Epoch 24, Loss: 0.06080423306901844, Accuracy: 97.82%\n",
      "Epoch 25, Loss: 0.03855754097220393, Accuracy: 98.74%\n",
      "Epoch 26, Loss: 0.02936862066996341, Accuracy: 99.05%\n",
      "Epoch 27, Loss: 0.045168931617363524, Accuracy: 98.39%\n",
      "Epoch 28, Loss: 0.08238629810512066, Accuracy: 97.09%\n",
      "Epoch 29, Loss: 0.044219178361438065, Accuracy: 98.42%\n",
      "Epoch 30, Loss: 0.026955104117015644, Accuracy: 99.12%\n",
      "Epoch 31, Loss: 0.03333025999908925, Accuracy: 98.86%\n",
      "Epoch 32, Loss: 0.047636560696576326, Accuracy: 98.34%\n",
      "Epoch 33, Loss: 0.054270331766836495, Accuracy: 98.04%\n",
      "Epoch 34, Loss: 0.061040377263359875, Accuracy: 97.89%\n",
      "Epoch 35, Loss: 0.03618780676541584, Accuracy: 98.70%\n",
      "Epoch 36, Loss: 0.01836320307291094, Accuracy: 99.42%\n",
      "Epoch 37, Loss: 0.029819697780743698, Accuracy: 98.97%\n",
      "Epoch 38, Loss: 0.022532247487997294, Accuracy: 99.24%\n",
      "Epoch 39, Loss: 0.06766829348397346, Accuracy: 97.60%\n",
      "Epoch 40, Loss: 0.04312508257476575, Accuracy: 98.46%\n",
      "Epoch 41, Loss: 0.020068571096219654, Accuracy: 99.27%\n",
      "Epoch 42, Loss: 0.017470829151998445, Accuracy: 99.39%\n",
      "Epoch 43, Loss: 0.020054524172838702, Accuracy: 99.34%\n",
      "Epoch 44, Loss: 0.043731285611937315, Accuracy: 98.50%\n",
      "Epoch 45, Loss: 0.06501542784425678, Accuracy: 97.73%\n",
      "Epoch 46, Loss: 0.025198992638734683, Accuracy: 99.12%\n",
      "Epoch 47, Loss: 0.01281779587247447, Accuracy: 99.58%\n",
      "Epoch 48, Loss: 0.008274821682455379, Accuracy: 99.77%\n",
      "Epoch 49, Loss: 0.006670810067515383, Accuracy: 99.80%\n",
      "Epoch 50, Loss: 0.00827807081329912, Accuracy: 99.75%\n"
     ]
    }
   ],
   "source": [
    "train_accuracy_histories = {}  # Dictionary to store training accuracy histories\n",
    "for optimizer_name, optimizer in optimizers.items():  # Iterate over optimizers\n",
    "    print(f\"Training with {optimizer_name}...\")\n",
    "    # Determine the CNN-ResNet model based on optimizer_name\n",
    "    if optimizer_name == 'Mini-batch (No Momentum)':\n",
    "        cnn_resnet_model = cnn_resnet_mb_no_momentum\n",
    "    elif optimizer_name == 'Mini-batch (Momentum 0.9)':\n",
    "        cnn_resnet_model = cnn_resnet_mb_momentum\n",
    "    else:\n",
    "        cnn_resnet_model = locals()[f'cnn_resnet_{optimizer_name.lower().replace(\" \", \"_\")}']\n",
    "    # Train the model and store the training accuracy history\n",
    "    train_accuracy_histories[optimizer_name] = train_model(cnn_resnet_model, trainloader, criterion, optimizer)\n"
   ]
  },
  {
   "cell_type": "markdown",
   "id": "041931d8",
   "metadata": {
    "editable": false,
    "papermill": {
     "duration": 0.064781,
     "end_time": "2024-04-02T16:25:24.107378",
     "exception": false,
     "start_time": "2024-04-02T16:25:24.042597",
     "status": "completed"
    },
    "tags": []
   },
   "source": [
    "### Evaluating Models' Accuracies"
   ]
  },
  {
   "cell_type": "code",
   "execution_count": 19,
   "id": "911b83c4",
   "metadata": {
    "editable": false,
    "execution": {
     "iopub.execute_input": "2024-04-02T16:25:24.237091Z",
     "iopub.status.busy": "2024-04-02T16:25:24.236361Z",
     "iopub.status.idle": "2024-04-02T16:25:33.376668Z",
     "shell.execute_reply": "2024-04-02T16:25:33.375743Z"
    },
    "papermill": {
     "duration": 9.207458,
     "end_time": "2024-04-02T16:25:33.378755",
     "exception": false,
     "start_time": "2024-04-02T16:25:24.171297",
     "status": "completed"
    },
    "tags": []
   },
   "outputs": [
    {
     "name": "stdout",
     "output_type": "stream",
     "text": [
      "Accuracy of model trained with SGD optimizer: 69.77%\n",
      "Accuracy of model trained with Mini-batch (No Momentum) optimizer: 70.65%\n",
      "Accuracy of model trained with Mini-batch (Momentum 0.9) optimizer: 76.28%\n",
      "Accuracy of model trained with Adam optimizer: 81.06%\n"
     ]
    }
   ],
   "source": [
    "# Evaluate models\n",
    "eval_results = {}\n",
    "for optimizer_name, model in zip(optimizers.keys(), [cnn_resnet_sgd, cnn_resnet_mb_no_momentum, cnn_resnet_mb_momentum, cnn_resnet_adam]):\n",
    "    accuracy = evaluate_model(model, testloader)\n",
    "    eval_results[optimizer_name] = accuracy\n",
    "    print(f\"Accuracy of model trained with {optimizer_name} optimizer: {accuracy:.2f}%\")"
   ]
  },
  {
   "cell_type": "markdown",
   "id": "dad7c883",
   "metadata": {
    "editable": false,
    "papermill": {
     "duration": 0.06627,
     "end_time": "2024-04-02T16:25:33.510124",
     "exception": false,
     "start_time": "2024-04-02T16:25:33.443854",
     "status": "completed"
    },
    "tags": []
   },
   "source": [
    "### Plotting Evaluation Results "
   ]
  },
  {
   "cell_type": "code",
   "execution_count": 20,
   "id": "13bf1dd2",
   "metadata": {
    "editable": false,
    "execution": {
     "iopub.execute_input": "2024-04-02T16:25:33.663649Z",
     "iopub.status.busy": "2024-04-02T16:25:33.662480Z",
     "iopub.status.idle": "2024-04-02T16:25:33.910610Z",
     "shell.execute_reply": "2024-04-02T16:25:33.909758Z"
    },
    "papermill": {
     "duration": 0.328096,
     "end_time": "2024-04-02T16:25:33.912695",
     "exception": false,
     "start_time": "2024-04-02T16:25:33.584599",
     "status": "completed"
    },
    "tags": []
   },
   "outputs": [
    {
     "data": {
      "image/png": "[encoded data removed]",
      "text/plain": [
       "<Figure size 1000x600 with 1 Axes>"
      ]
     },
     "metadata": {},
     "output_type": "display_data"
    }
   ],
   "source": [
    "import matplotlib.pyplot as plt\n",
    "# Plotting evaluation results\n",
    "plt.figure(figsize=(10, 6))\n",
    "plt.bar(eval_results.keys(), eval_results.values())\n",
    "plt.xlabel('Optimizers')\n",
    "plt.ylabel('Test Accuracy')\n",
    "plt.title('Effect of Different Optimizers on Test Accuracy')\n",
    "plt.ylim(0, 100)\n",
    "plt.grid(axis='y')\n",
    "plt.show()"
   ]
  },
  {
   "cell_type": "markdown",
   "id": "4b11a6dc",
   "metadata": {
    "editable": false,
    "papermill": {
     "duration": 0.066666,
     "end_time": "2024-04-02T16:25:34.043653",
     "exception": false,
     "start_time": "2024-04-02T16:25:33.976987",
     "status": "completed"
    },
    "tags": []
   },
   "source": [
    "### Plotting Training Accuracy vs Epochs for each Optimizer"
   ]
  },
  {
   "cell_type": "code",
   "execution_count": 21,
   "id": "f383a34e",
   "metadata": {
    "editable": false,
    "execution": {
     "iopub.execute_input": "2024-04-02T16:25:34.199030Z",
     "iopub.status.busy": "2024-04-02T16:25:34.198289Z",
     "iopub.status.idle": "2024-04-02T16:25:34.554371Z",
     "shell.execute_reply": "2024-04-02T16:25:34.553374Z"
    },
    "papermill": {
     "duration": 0.436263,
     "end_time": "2024-04-02T16:25:34.556439",
     "exception": false,
     "start_time": "2024-04-02T16:25:34.120176",
     "status": "completed"
    },
    "tags": []
   },
   "outputs": [
    {
     "data": {
      "image/png": "[encoded data removed]",
      "text/plain": [
       "<Figure size 1000x600 with 1 Axes>"
      ]
     },
     "metadata": {},
     "output_type": "display_data"
    }
   ],
   "source": [
    "# Plotting training accuracy vs epochs for each optimizer\n",
    "plt.figure(figsize=(10, 6))\n",
    "for optimizer_name, history in train_accuracy_histories.items():\n",
    "    plt.plot(range(1, len(history) + 1), history, label=optimizer_name)\n",
    "\n",
    "plt.xlabel('Epochs')\n",
    "plt.ylabel('Training Accuracy')\n",
    "plt.title('Training Accuracy vs. Epochs for Different Optimizers')\n",
    "plt.legend()\n",
    "plt.grid(True)\n",
    "plt.show()"
   ]
  },
  {
   "cell_type": "markdown",
   "id": "4e6ecd3d",
   "metadata": {
    "editable": false,
    "papermill": {
     "duration": 0.06673,
     "end_time": "2024-04-02T16:25:34.691484",
     "exception": false,
     "start_time": "2024-04-02T16:25:34.624754",
     "status": "completed"
    },
    "tags": []
   },
   "source": [
    "### Determining the Best Optimizer"
   ]
  },
  {
   "cell_type": "code",
   "execution_count": 22,
   "id": "10f98319",
   "metadata": {
    "editable": false,
    "execution": {
     "iopub.execute_input": "2024-04-02T16:25:34.823219Z",
     "iopub.status.busy": "2024-04-02T16:25:34.822870Z",
     "iopub.status.idle": "2024-04-02T16:25:34.827800Z",
     "shell.execute_reply": "2024-04-02T16:25:34.826924Z"
    },
    "papermill": {
     "duration": 0.073239,
     "end_time": "2024-04-02T16:25:34.829878",
     "exception": false,
     "start_time": "2024-04-02T16:25:34.756639",
     "status": "completed"
    },
    "tags": []
   },
   "outputs": [
    {
     "name": "stdout",
     "output_type": "stream",
     "text": [
      "The best optimizer is: Adam with a test accuracy of 81.06%\n"
     ]
    }
   ],
   "source": [
    "# Determine the best optimizer\n",
    "best_optimizer = max(eval_results, key=eval_results.get)\n",
    "print(f\"The best optimizer is: {best_optimizer} with a test accuracy of {eval_results[best_optimizer]:.2f}%\")"
   ]
  },
  {
   "cell_type": "markdown",
   "id": "6989c292",
   "metadata": {
    "editable": false,
    "papermill": {
     "duration": 0.065905,
     "end_time": "2024-04-02T16:25:34.960738",
     "exception": false,
     "start_time": "2024-04-02T16:25:34.894833",
     "status": "completed"
    },
    "tags": []
   },
   "source": [
    "## Adam is the Best Optimizer !!"
   ]
  },
  {
   "cell_type": "markdown",
   "id": "466eea99",
   "metadata": {
    "editable": false,
    "papermill": {
     "duration": 0.06532,
     "end_time": "2024-04-02T16:25:35.091575",
     "exception": false,
     "start_time": "2024-04-02T16:25:35.026255",
     "status": "completed"
    },
    "tags": []
   },
   "source": [
    " # Experiment 4: Study the Effect of Network Depth"
   ]
  },
  {
   "cell_type": "markdown",
   "id": "fa17083e",
   "metadata": {
    "editable": false,
    "papermill": {
     "duration": 0.065173,
     "end_time": "2024-04-02T16:25:35.223538",
     "exception": false,
     "start_time": "2024-04-02T16:25:35.158365",
     "status": "completed"
    },
    "tags": []
   },
   "source": [
    "### Defining CNN network with 4 resnet blocks and 2 FC Layers"
   ]
  },
  {
   "cell_type": "code",
   "execution_count": 23,
   "id": "bc02bea9",
   "metadata": {
    "editable": false,
    "execution": {
     "iopub.execute_input": "2024-04-02T16:25:35.355462Z",
     "iopub.status.busy": "2024-04-02T16:25:35.355067Z",
     "iopub.status.idle": "2024-04-02T16:25:35.364740Z",
     "shell.execute_reply": "2024-04-02T16:25:35.363842Z"
    },
    "papermill": {
     "duration": 0.077789,
     "end_time": "2024-04-02T16:25:35.366659",
     "exception": false,
     "start_time": "2024-04-02T16:25:35.288870",
     "status": "completed"
    },
    "tags": []
   },
   "outputs": [],
   "source": [
    "class CNNResNet4Level(nn.Module):\n",
    "    def __init__(self):\n",
    "        super(CNNResNet4Level, self).__init__()  # Initialize superclass\n",
    "        self.conv1 = nn.Conv2d(3, 32, 3, padding=1)  # First convolutional layer\n",
    "        self.pool = nn.MaxPool2d(2, 2)  # Max pooling layer\n",
    "        # Define four ResNet blocks\n",
    "        self.resnet_block1 = ResNetBlock(32, 64)\n",
    "        self.resnet_block2 = ResNetBlock(64, 64)\n",
    "        self.resnet_block3 = ResNetBlock(64, 64)\n",
    "        self.resnet_block4 = ResNetBlock(64, 64)\n",
    "        self.fc1 = nn.Linear(64 * 8 * 8, 128)  # First fully connected layer\n",
    "        self.fc2 = nn.Linear(128, 10)  # Second fully connected layer (output layer)\n",
    "\n",
    "    def forward(self, x):\n",
    "        x = self.pool(torch.relu(self.conv1(x)))  # Convolutional layer followed by ReLU and pooling\n",
    "        # Pass through each ResNet block\n",
    "        x = self.resnet_block1(x)\n",
    "        x = self.resnet_block2(x)\n",
    "        x = self.resnet_block3(x)\n",
    "        x = self.resnet_block4(x)\n",
    "        x = self.pool(x)  # Pooling layer\n",
    "        x = x.view(-1, 64 * 8 * 8)  # Flatten the output\n",
    "        x = torch.relu(self.fc1(x))  # Fully connected layer followed by ReLU\n",
    "        x = self.fc2(x)  # Output layer\n",
    "        return x\n"
   ]
  },
  {
   "cell_type": "markdown",
   "id": "6514c316",
   "metadata": {
    "editable": false,
    "papermill": {
     "duration": 0.065131,
     "end_time": "2024-04-02T16:25:35.496977",
     "exception": false,
     "start_time": "2024-04-02T16:25:35.431846",
     "status": "completed"
    },
    "tags": []
   },
   "source": [
    "## Defining CNN Network with 3 Resnet Blocks and 4 Fully Connected Layers"
   ]
  },
  {
   "cell_type": "code",
   "execution_count": 24,
   "id": "bad3a4a9",
   "metadata": {
    "editable": false,
    "execution": {
     "iopub.execute_input": "2024-04-02T16:25:35.628569Z",
     "iopub.status.busy": "2024-04-02T16:25:35.627909Z",
     "iopub.status.idle": "2024-04-02T16:25:35.637554Z",
     "shell.execute_reply": "2024-04-02T16:25:35.636724Z"
    },
    "papermill": {
     "duration": 0.077659,
     "end_time": "2024-04-02T16:25:35.639492",
     "exception": false,
     "start_time": "2024-04-02T16:25:35.561833",
     "status": "completed"
    },
    "tags": []
   },
   "outputs": [],
   "source": [
    "class CNNResNet3Level(nn.Module):\n",
    "    def __init__(self):\n",
    "        super(CNNResNet3Level, self).__init__()  # Initialize superclass\n",
    "        self.conv1 = nn.Conv2d(3, 32, 3, padding=1)  # First convolutional layer\n",
    "        self.pool = nn.MaxPool2d(2, 2)  # Max pooling layer\n",
    "        # Define three ResNet blocks\n",
    "        self.resnet_block1 = ResNetBlock(32, 64)\n",
    "        self.resnet_block2 = ResNetBlock(64, 64)\n",
    "        self.resnet_block3 = ResNetBlock(64, 64)\n",
    "        self.fc1 = nn.Linear(64 * 8 * 8, 128)  # First fully connected layer\n",
    "        self.fc2 = nn.Linear(128, 64)  # Second fully connected layer\n",
    "        self.fc3 = nn.Linear(64, 64)  # Third fully connected layer\n",
    "        self.fc4 = nn.Linear(64, 10)  # Output layer\n",
    "\n",
    "    def forward(self, x):\n",
    "        x = self.pool(torch.relu(self.conv1(x)))  # Convolutional layer followed by ReLU and pooling\n",
    "        # Pass through each ResNet block\n",
    "        x = self.resnet_block1(x)\n",
    "        x = self.resnet_block2(x)\n",
    "        x = self.resnet_block3(x)\n",
    "        x = self.pool(x)  # Pooling layer\n",
    "        x = x.view(-1, 64 * 8 * 8)  # Flatten the output\n",
    "        x = torch.relu(self.fc1(x))  # First fully connected layer followed by ReLU\n",
    "        x = torch.relu(self.fc2(x))  # Second fully connected layer followed by ReLU\n",
    "        x = torch.relu(self.fc3(x))  # Third fully connected layer followed by ReLU\n",
    "        x = self.fc4(x)  # Output layer\n",
    "        return x\n"
   ]
  },
  {
   "cell_type": "markdown",
   "id": "1b46eb7f",
   "metadata": {
    "editable": false,
    "papermill": {
     "duration": 0.065342,
     "end_time": "2024-04-02T16:25:35.772043",
     "exception": false,
     "start_time": "2024-04-02T16:25:35.706701",
     "status": "completed"
    },
    "tags": []
   },
   "source": [
    "## There is an effective increase of 2 layers on top of our original CNN-Resnet Model in the above 2 Models that have been defined\n",
    "Either 2 FCs added or a Resnet block that has 2 Convolutional Layers were added"
   ]
  },
  {
   "cell_type": "markdown",
   "id": "482687db",
   "metadata": {
    "editable": false,
    "papermill": {
     "duration": 0.064672,
     "end_time": "2024-04-02T16:25:35.902271",
     "exception": false,
     "start_time": "2024-04-02T16:25:35.837599",
     "status": "completed"
    },
    "tags": []
   },
   "source": [
    "## Initializing both the models and defining optimizers"
   ]
  },
  {
   "cell_type": "code",
   "execution_count": 25,
   "id": "9589fb3c",
   "metadata": {
    "editable": false,
    "execution": {
     "iopub.execute_input": "2024-04-02T16:25:36.034865Z",
     "iopub.status.busy": "2024-04-02T16:25:36.034039Z",
     "iopub.status.idle": "2024-04-02T16:25:36.065679Z",
     "shell.execute_reply": "2024-04-02T16:25:36.064611Z"
    },
    "papermill": {
     "duration": 0.099941,
     "end_time": "2024-04-02T16:25:36.067807",
     "exception": false,
     "start_time": "2024-04-02T16:25:35.967866",
     "status": "completed"
    },
    "tags": []
   },
   "outputs": [
    {
     "name": "stdout",
     "output_type": "stream",
     "text": [
      "CNNResNet4Level(\n",
      "  (conv1): Conv2d(3, 32, kernel_size=(3, 3), stride=(1, 1), padding=(1, 1))\n",
      "  (pool): MaxPool2d(kernel_size=2, stride=2, padding=0, dilation=1, ceil_mode=False)\n",
      "  (resnet_block1): ResNetBlock(\n",
      "    (conv1): Conv2d(32, 64, kernel_size=(3, 3), stride=(1, 1), padding=(1, 1), bias=False)\n",
      "    (bn1): BatchNorm2d(64, eps=1e-05, momentum=0.1, affine=True, track_running_stats=True)\n",
      "    (relu): ReLU(inplace=True)\n",
      "    (conv2): Conv2d(64, 64, kernel_size=(3, 3), stride=(1, 1), padding=(1, 1), bias=False)\n",
      "    (bn2): BatchNorm2d(64, eps=1e-05, momentum=0.1, affine=True, track_running_stats=True)\n",
      "    (shortcut): Sequential(\n",
      "      (0): Conv2d(32, 64, kernel_size=(1, 1), stride=(1, 1), bias=False)\n",
      "      (1): BatchNorm2d(64, eps=1e-05, momentum=0.1, affine=True, track_running_stats=True)\n",
      "    )\n",
      "  )\n",
      "  (resnet_block2): ResNetBlock(\n",
      "    (conv1): Conv2d(64, 64, kernel_size=(3, 3), stride=(1, 1), padding=(1, 1), bias=False)\n",
      "    (bn1): BatchNorm2d(64, eps=1e-05, momentum=0.1, affine=True, track_running_stats=True)\n",
      "    (relu): ReLU(inplace=True)\n",
      "    (conv2): Conv2d(64, 64, kernel_size=(3, 3), stride=(1, 1), padding=(1, 1), bias=False)\n",
      "    (bn2): BatchNorm2d(64, eps=1e-05, momentum=0.1, affine=True, track_running_stats=True)\n",
      "    (shortcut): Sequential()\n",
      "  )\n",
      "  (resnet_block3): ResNetBlock(\n",
      "    (conv1): Conv2d(64, 64, kernel_size=(3, 3), stride=(1, 1), padding=(1, 1), bias=False)\n",
      "    (bn1): BatchNorm2d(64, eps=1e-05, momentum=0.1, affine=True, track_running_stats=True)\n",
      "    (relu): ReLU(inplace=True)\n",
      "    (conv2): Conv2d(64, 64, kernel_size=(3, 3), stride=(1, 1), padding=(1, 1), bias=False)\n",
      "    (bn2): BatchNorm2d(64, eps=1e-05, momentum=0.1, affine=True, track_running_stats=True)\n",
      "    (shortcut): Sequential()\n",
      "  )\n",
      "  (resnet_block4): ResNetBlock(\n",
      "    (conv1): Conv2d(64, 64, kernel_size=(3, 3), stride=(1, 1), padding=(1, 1), bias=False)\n",
      "    (bn1): BatchNorm2d(64, eps=1e-05, momentum=0.1, affine=True, track_running_stats=True)\n",
      "    (relu): ReLU(inplace=True)\n",
      "    (conv2): Conv2d(64, 64, kernel_size=(3, 3), stride=(1, 1), padding=(1, 1), bias=False)\n",
      "    (bn2): BatchNorm2d(64, eps=1e-05, momentum=0.1, affine=True, track_running_stats=True)\n",
      "    (shortcut): Sequential()\n",
      "  )\n",
      "  (fc1): Linear(in_features=4096, out_features=128, bias=True)\n",
      "  (fc2): Linear(in_features=128, out_features=10, bias=True)\n",
      ")\n",
      "CNNResNet3Level(\n",
      "  (conv1): Conv2d(3, 32, kernel_size=(3, 3), stride=(1, 1), padding=(1, 1))\n",
      "  (pool): MaxPool2d(kernel_size=2, stride=2, padding=0, dilation=1, ceil_mode=False)\n",
      "  (resnet_block1): ResNetBlock(\n",
      "    (conv1): Conv2d(32, 64, kernel_size=(3, 3), stride=(1, 1), padding=(1, 1), bias=False)\n",
      "    (bn1): BatchNorm2d(64, eps=1e-05, momentum=0.1, affine=True, track_running_stats=True)\n",
      "    (relu): ReLU(inplace=True)\n",
      "    (conv2): Conv2d(64, 64, kernel_size=(3, 3), stride=(1, 1), padding=(1, 1), bias=False)\n",
      "    (bn2): BatchNorm2d(64, eps=1e-05, momentum=0.1, affine=True, track_running_stats=True)\n",
      "    (shortcut): Sequential(\n",
      "      (0): Conv2d(32, 64, kernel_size=(1, 1), stride=(1, 1), bias=False)\n",
      "      (1): BatchNorm2d(64, eps=1e-05, momentum=0.1, affine=True, track_running_stats=True)\n",
      "    )\n",
      "  )\n",
      "  (resnet_block2): ResNetBlock(\n",
      "    (conv1): Conv2d(64, 64, kernel_size=(3, 3), stride=(1, 1), padding=(1, 1), bias=False)\n",
      "    (bn1): BatchNorm2d(64, eps=1e-05, momentum=0.1, affine=True, track_running_stats=True)\n",
      "    (relu): ReLU(inplace=True)\n",
      "    (conv2): Conv2d(64, 64, kernel_size=(3, 3), stride=(1, 1), padding=(1, 1), bias=False)\n",
      "    (bn2): BatchNorm2d(64, eps=1e-05, momentum=0.1, affine=True, track_running_stats=True)\n",
      "    (shortcut): Sequential()\n",
      "  )\n",
      "  (resnet_block3): ResNetBlock(\n",
      "    (conv1): Conv2d(64, 64, kernel_size=(3, 3), stride=(1, 1), padding=(1, 1), bias=False)\n",
      "    (bn1): BatchNorm2d(64, eps=1e-05, momentum=0.1, affine=True, track_running_stats=True)\n",
      "    (relu): ReLU(inplace=True)\n",
      "    (conv2): Conv2d(64, 64, kernel_size=(3, 3), stride=(1, 1), padding=(1, 1), bias=False)\n",
      "    (bn2): BatchNorm2d(64, eps=1e-05, momentum=0.1, affine=True, track_running_stats=True)\n",
      "    (shortcut): Sequential()\n",
      "  )\n",
      "  (fc1): Linear(in_features=4096, out_features=128, bias=True)\n",
      "  (fc2): Linear(in_features=128, out_features=64, bias=True)\n",
      "  (fc3): Linear(in_features=64, out_features=64, bias=True)\n",
      "  (fc4): Linear(in_features=64, out_features=10, bias=True)\n",
      ")\n"
     ]
    }
   ],
   "source": [
    "# Initialize models\n",
    "cnn_resnet_4level = CNNResNet4Level().to(device)  # CNNResNet4Level model moved to device\n",
    "cnn_resnet_3level = CNNResNet3Level().to(device)  # CNNResNet3Level model moved to device\n",
    "\n",
    "# Define optimizers\n",
    "optimizer_resnet_4level = optim.Adam(cnn_resnet_4level.parameters(), lr=0.001)  # Adam optimizer for CNNResNet4Level\n",
    "optimizer_resnet_3level = optim.Adam(cnn_resnet_3level.parameters(), lr=0.001)  # Adam optimizer for CNNResNet3Level\n",
    "\n",
    "print(cnn_resnet_4level)  # Print CNNResNet4Level model\n",
    "print(cnn_resnet_3level)  # Print CNNResNet3Level model"
   ]
  },
  {
   "cell_type": "markdown",
   "id": "2fda4120",
   "metadata": {
    "editable": false,
    "papermill": {
     "duration": 0.065292,
     "end_time": "2024-04-02T16:25:36.198837",
     "exception": false,
     "start_time": "2024-04-02T16:25:36.133545",
     "status": "completed"
    },
    "tags": []
   },
   "source": [
    "### Training CNN Resnet with 4 Resnet blocks and 2 Fcs"
   ]
  },
  {
   "cell_type": "code",
   "execution_count": 26,
   "id": "01b46602",
   "metadata": {
    "editable": false,
    "execution": {
     "iopub.execute_input": "2024-04-02T16:25:36.331515Z",
     "iopub.status.busy": "2024-04-02T16:25:36.331166Z",
     "iopub.status.idle": "2024-04-02T16:39:28.047778Z",
     "shell.execute_reply": "2024-04-02T16:39:28.046675Z"
    },
    "papermill": {
     "duration": 831.855399,
     "end_time": "2024-04-02T16:39:28.120058",
     "exception": false,
     "start_time": "2024-04-02T16:25:36.264659",
     "status": "completed"
    },
    "tags": []
   },
   "outputs": [
    {
     "name": "stdout",
     "output_type": "stream",
     "text": [
      "Training Resnet 4 Level\n",
      "Epoch 1, Loss: 1.582699430840356, Accuracy: 44.39%\n",
      "Epoch 2, Loss: 0.9863045921131056, Accuracy: 64.94%\n",
      "Epoch 3, Loss: 0.7726298683151906, Accuracy: 72.76%\n",
      "Epoch 4, Loss: 0.6530546813595052, Accuracy: 77.02%\n",
      "Epoch 5, Loss: 0.5844596153011128, Accuracy: 79.42%\n",
      "Epoch 6, Loss: 0.5148119528074654, Accuracy: 81.97%\n",
      "Epoch 7, Loss: 0.4614355593007438, Accuracy: 83.86%\n",
      "Epoch 8, Loss: 0.40374273426678714, Accuracy: 85.89%\n",
      "Epoch 9, Loss: 0.34771863979344464, Accuracy: 87.77%\n",
      "Epoch 10, Loss: 0.3101028631992486, Accuracy: 89.28%\n",
      "Epoch 11, Loss: 0.26466925784337275, Accuracy: 90.70%\n",
      "Epoch 12, Loss: 0.23097816406159985, Accuracy: 91.92%\n",
      "Epoch 13, Loss: 0.18707036531093169, Accuracy: 93.48%\n",
      "Epoch 14, Loss: 0.1639515050135705, Accuracy: 94.11%\n",
      "Epoch 15, Loss: 0.14901008973924482, Accuracy: 94.74%\n",
      "Epoch 16, Loss: 0.11065913468827399, Accuracy: 96.11%\n",
      "Epoch 17, Loss: 0.09592340799162583, Accuracy: 96.61%\n",
      "Epoch 18, Loss: 0.09693762779768024, Accuracy: 96.60%\n",
      "Epoch 19, Loss: 0.07155761844003383, Accuracy: 97.52%\n",
      "Epoch 20, Loss: 0.07006418948270837, Accuracy: 97.59%\n",
      "Epoch 21, Loss: 0.0872975442919652, Accuracy: 96.91%\n",
      "Epoch 22, Loss: 0.0743880169371105, Accuracy: 97.37%\n",
      "Epoch 23, Loss: 0.057201003166371764, Accuracy: 97.99%\n",
      "Epoch 24, Loss: 0.06257150979826645, Accuracy: 97.75%\n",
      "Epoch 25, Loss: 0.03895207659379408, Accuracy: 98.67%\n",
      "Epoch 26, Loss: 0.031012077122090424, Accuracy: 98.99%\n",
      "Epoch 27, Loss: 0.08892368185999137, Accuracy: 96.86%\n",
      "Epoch 28, Loss: 0.04684411210236045, Accuracy: 98.33%\n",
      "Epoch 29, Loss: 0.03538701725097335, Accuracy: 98.80%\n",
      "Epoch 30, Loss: 0.032443228377295394, Accuracy: 98.85%\n",
      "Epoch 31, Loss: 0.05675607608935358, Accuracy: 98.02%\n",
      "Epoch 32, Loss: 0.054346341164592575, Accuracy: 98.02%\n",
      "Epoch 33, Loss: 0.04635887448105733, Accuracy: 98.40%\n",
      "Epoch 34, Loss: 0.024579440382527833, Accuracy: 99.13%\n",
      "Epoch 35, Loss: 0.018500293846175606, Accuracy: 99.37%\n",
      "Epoch 36, Loss: 0.02871963363117063, Accuracy: 99.04%\n",
      "Epoch 37, Loss: 0.04760630270561241, Accuracy: 98.33%\n",
      "Epoch 38, Loss: 0.08180588560311922, Accuracy: 97.19%\n",
      "Epoch 39, Loss: 0.021958805487624238, Accuracy: 99.23%\n",
      "Epoch 40, Loss: 0.007248594641224577, Accuracy: 99.80%\n",
      "Epoch 41, Loss: 0.0024336979417688667, Accuracy: 99.96%\n",
      "Epoch 42, Loss: 0.0010463603252066271, Accuracy: 99.99%\n",
      "Epoch 43, Loss: 0.00033758857932056975, Accuracy: 100.00%\n",
      "Epoch 44, Loss: 0.00021183867670051583, Accuracy: 100.00%\n",
      "Epoch 45, Loss: 0.00016619203352649715, Accuracy: 100.00%\n",
      "Epoch 46, Loss: 0.00014456692788742805, Accuracy: 100.00%\n",
      "Epoch 47, Loss: 0.00012521303214809302, Accuracy: 100.00%\n",
      "Epoch 48, Loss: 0.00011044189795939019, Accuracy: 100.00%\n",
      "Epoch 49, Loss: 9.798545872808044e-05, Accuracy: 100.00%\n",
      "Epoch 50, Loss: 8.835892215441218e-05, Accuracy: 100.00%\n"
     ]
    }
   ],
   "source": [
    "# Train models\n",
    "print(\"Training Resnet 4 Level\")\n",
    "train_accuracy_resnet_4level = train_model(cnn_resnet_4level, trainloader, criterion, optimizer_resnet_4level)"
   ]
  },
  {
   "cell_type": "markdown",
   "id": "53682e35",
   "metadata": {
    "editable": false,
    "papermill": {
     "duration": 0.069267,
     "end_time": "2024-04-02T16:39:28.258888",
     "exception": false,
     "start_time": "2024-04-02T16:39:28.189621",
     "status": "completed"
    },
    "tags": []
   },
   "source": [
    "### Training CNN Resnet with 3 Resnet blocks and 4 Fcs"
   ]
  },
  {
   "cell_type": "code",
   "execution_count": 27,
   "id": "e4cce4c8",
   "metadata": {
    "editable": false,
    "execution": {
     "iopub.execute_input": "2024-04-02T16:39:28.399918Z",
     "iopub.status.busy": "2024-04-02T16:39:28.399193Z",
     "iopub.status.idle": "2024-04-02T16:52:36.414528Z",
     "shell.execute_reply": "2024-04-02T16:52:36.413520Z"
    },
    "papermill": {
     "duration": 788.163831,
     "end_time": "2024-04-02T16:52:36.492067",
     "exception": false,
     "start_time": "2024-04-02T16:39:28.328236",
     "status": "completed"
    },
    "tags": []
   },
   "outputs": [
    {
     "name": "stdout",
     "output_type": "stream",
     "text": [
      "Training Resnet 3 Level\n",
      "Epoch 1, Loss: 1.417984468596322, Accuracy: 47.39%\n",
      "Epoch 2, Loss: 0.9334235471122119, Accuracy: 66.75%\n",
      "Epoch 3, Loss: 0.7502414982537834, Accuracy: 73.66%\n",
      "Epoch 4, Loss: 0.648315858476016, Accuracy: 77.25%\n",
      "Epoch 5, Loss: 0.5618453114008417, Accuracy: 80.39%\n",
      "Epoch 6, Loss: 0.5044902934103596, Accuracy: 82.31%\n",
      "Epoch 7, Loss: 0.44983118772506714, Accuracy: 84.16%\n",
      "Epoch 8, Loss: 0.40205544354964273, Accuracy: 86.02%\n",
      "Epoch 9, Loss: 0.3425227071405674, Accuracy: 88.18%\n",
      "Epoch 10, Loss: 0.31079837140076016, Accuracy: 89.17%\n",
      "Epoch 11, Loss: 0.27109040897719716, Accuracy: 90.43%\n",
      "Epoch 12, Loss: 0.24270750133662808, Accuracy: 91.38%\n",
      "Epoch 13, Loss: 0.21512127089865354, Accuracy: 92.41%\n",
      "Epoch 14, Loss: 0.1902640410984049, Accuracy: 93.25%\n",
      "Epoch 15, Loss: 0.1564850515248824, Accuracy: 94.41%\n",
      "Epoch 16, Loss: 0.1385759442702544, Accuracy: 95.01%\n",
      "Epoch 17, Loss: 0.12876829715939808, Accuracy: 95.43%\n",
      "Epoch 18, Loss: 0.10764972645105148, Accuracy: 96.13%\n",
      "Epoch 19, Loss: 0.0977833317782806, Accuracy: 96.50%\n",
      "Epoch 20, Loss: 0.08913379213867748, Accuracy: 96.90%\n",
      "Epoch 21, Loss: 0.08045654474966685, Accuracy: 97.21%\n",
      "Epoch 22, Loss: 0.06797073491639932, Accuracy: 97.67%\n",
      "Epoch 23, Loss: 0.06975528445303897, Accuracy: 97.52%\n",
      "Epoch 24, Loss: 0.07497650188184818, Accuracy: 97.30%\n",
      "Epoch 25, Loss: 0.0626055009339993, Accuracy: 97.73%\n",
      "Epoch 26, Loss: 0.05512759297591995, Accuracy: 98.01%\n",
      "Epoch 27, Loss: 0.04974529322008697, Accuracy: 98.20%\n",
      "Epoch 28, Loss: 0.05189864242886554, Accuracy: 98.18%\n",
      "Epoch 29, Loss: 0.05914041395679268, Accuracy: 97.87%\n",
      "Epoch 30, Loss: 0.05070484890032331, Accuracy: 98.25%\n",
      "Epoch 31, Loss: 0.04546168396648552, Accuracy: 98.36%\n",
      "Epoch 32, Loss: 0.04704394224289881, Accuracy: 98.37%\n",
      "Epoch 33, Loss: 0.04332551683717388, Accuracy: 98.47%\n",
      "Epoch 34, Loss: 0.03965808421715486, Accuracy: 98.63%\n",
      "Epoch 35, Loss: 0.06371923394463196, Accuracy: 97.89%\n",
      "Epoch 36, Loss: 0.034678592997584114, Accuracy: 98.82%\n",
      "Epoch 37, Loss: 0.03726110546089405, Accuracy: 98.69%\n",
      "Epoch 38, Loss: 0.04873190762247054, Accuracy: 98.29%\n",
      "Epoch 39, Loss: 0.04783704249682475, Accuracy: 98.32%\n",
      "Epoch 40, Loss: 0.019277583425199345, Accuracy: 99.34%\n",
      "Epoch 41, Loss: 0.0356846591814098, Accuracy: 98.82%\n",
      "Epoch 42, Loss: 0.037929792675232436, Accuracy: 98.71%\n",
      "Epoch 43, Loss: 0.03648608613863816, Accuracy: 98.72%\n",
      "Epoch 44, Loss: 0.019689756553092668, Accuracy: 99.33%\n",
      "Epoch 45, Loss: 0.034424286079117836, Accuracy: 98.81%\n",
      "Epoch 46, Loss: 0.0425067219849942, Accuracy: 98.50%\n",
      "Epoch 47, Loss: 0.03462551071127991, Accuracy: 98.83%\n",
      "Epoch 48, Loss: 0.03427471780949937, Accuracy: 98.85%\n",
      "Epoch 49, Loss: 0.03162377866992385, Accuracy: 98.94%\n",
      "Epoch 50, Loss: 0.037703031693034024, Accuracy: 98.68%\n"
     ]
    }
   ],
   "source": [
    "print(\"Training Resnet 3 Level\")\n",
    "train_accuracy_resnet_3level = train_model(cnn_resnet_3level, trainloader, criterion, optimizer_resnet_3level)"
   ]
  },
  {
   "cell_type": "markdown",
   "id": "b11a449b",
   "metadata": {
    "editable": false,
    "papermill": {
     "duration": 0.074231,
     "end_time": "2024-04-02T16:52:36.640222",
     "exception": false,
     "start_time": "2024-04-02T16:52:36.565991",
     "status": "completed"
    },
    "tags": []
   },
   "source": [
    "### Evaluating Models"
   ]
  },
  {
   "cell_type": "code",
   "execution_count": 28,
   "id": "274db402",
   "metadata": {
    "editable": false,
    "execution": {
     "iopub.execute_input": "2024-04-02T16:52:36.789298Z",
     "iopub.status.busy": "2024-04-02T16:52:36.788543Z",
     "iopub.status.idle": "2024-04-02T16:52:41.424979Z",
     "shell.execute_reply": "2024-04-02T16:52:41.423990Z"
    },
    "papermill": {
     "duration": 4.713089,
     "end_time": "2024-04-02T16:52:41.427176",
     "exception": false,
     "start_time": "2024-04-02T16:52:36.714087",
     "status": "completed"
    },
    "tags": []
   },
   "outputs": [
    {
     "name": "stdout",
     "output_type": "stream",
     "text": [
      "Accuracy of CNN-ResNet with 4-level blocks and 2 FC on the test set: 84.1\n",
      "Accuracy of CNN-ResNet with 3-level blocks and 4 FC on the test set: 79.66\n",
      "Accuracy of CNN-ResNet with 3-level blocks and 2 FC on the test set: 83.44\n"
     ]
    }
   ],
   "source": [
    "# Evaluate the models\n",
    "accuracy_resnet_4level = evaluate_model(cnn_resnet_4level, testloader)\n",
    "accuracy_resnet_3level = evaluate_model(cnn_resnet_3level, testloader)\n",
    "\n",
    "# Print results\n",
    "print(\"Accuracy of CNN-ResNet with 4-level blocks and 2 FC on the test set:\", accuracy_resnet_4level)\n",
    "print(\"Accuracy of CNN-ResNet with 3-level blocks and 4 FC on the test set:\", accuracy_resnet_3level)\n",
    "print(\"Accuracy of CNN-ResNet with 3-level blocks and 2 FC on the test set:\", accuracy_resnet)"
   ]
  },
  {
   "cell_type": "markdown",
   "id": "a5848b16",
   "metadata": {
    "editable": false,
    "papermill": {
     "duration": 0.074925,
     "end_time": "2024-04-02T16:52:41.579507",
     "exception": false,
     "start_time": "2024-04-02T16:52:41.504582",
     "status": "completed"
    },
    "tags": []
   },
   "source": [
    "### Plotting Training Accuracy vs Epochs for each model"
   ]
  },
  {
   "cell_type": "code",
   "execution_count": 29,
   "id": "4b205043",
   "metadata": {
    "editable": false,
    "execution": {
     "iopub.execute_input": "2024-04-02T16:52:41.729555Z",
     "iopub.status.busy": "2024-04-02T16:52:41.729179Z",
     "iopub.status.idle": "2024-04-02T16:52:42.129112Z",
     "shell.execute_reply": "2024-04-02T16:52:42.128152Z"
    },
    "papermill": {
     "duration": 0.477706,
     "end_time": "2024-04-02T16:52:42.131440",
     "exception": false,
     "start_time": "2024-04-02T16:52:41.653734",
     "status": "completed"
    },
    "tags": []
   },
   "outputs": [
    {
     "data": {
      "image/png": "[encoded data removed]",
      "text/plain": [
       "<Figure size 640x480 with 1 Axes>"
      ]
     },
     "metadata": {},
     "output_type": "display_data"
    }
   ],
   "source": [
    "# Plotting training accuracy vs. epochs for each model\n",
    "plt.plot(range(1, len(train_accuracy_resnet_4level) + 1), train_accuracy_resnet_4level, label='4-level Blocks')\n",
    "plt.plot(range(1, len(train_accuracy_resnet_3level) + 1), train_accuracy_resnet_3level, label='3-level Blocks')\n",
    "plt.xlabel('Epochs')\n",
    "plt.ylabel('Training Accuracy')\n",
    "plt.title('Training Accuracy vs. Epochs for Different Network Depths')\n",
    "plt.legend()\n",
    "plt.grid(True)\n",
    "plt.show()"
   ]
  },
  {
   "cell_type": "markdown",
   "id": "3989b42e",
   "metadata": {
    "editable": false,
    "papermill": {
     "duration": 0.072892,
     "end_time": "2024-04-02T16:52:42.279143",
     "exception": false,
     "start_time": "2024-04-02T16:52:42.206251",
     "status": "completed"
    },
    "tags": []
   },
   "source": [
    "### Comparing number of parameters in the 3 Resnet Models"
   ]
  },
  {
   "cell_type": "code",
   "execution_count": 30,
   "id": "7d7badb6",
   "metadata": {
    "editable": false,
    "execution": {
     "iopub.execute_input": "2024-04-02T16:52:42.428241Z",
     "iopub.status.busy": "2024-04-02T16:52:42.427405Z",
     "iopub.status.idle": "2024-04-02T16:52:42.433991Z",
     "shell.execute_reply": "2024-04-02T16:52:42.433140Z"
    },
    "papermill": {
     "duration": 0.08357,
     "end_time": "2024-04-02T16:52:42.436056",
     "exception": false,
     "start_time": "2024-04-02T16:52:42.352486",
     "status": "completed"
    },
    "tags": []
   },
   "outputs": [
    {
     "name": "stdout",
     "output_type": "stream",
     "text": [
      "Number of parameters in CNN-ResNet with 4-level blocks and 2 FC: 806282\n",
      "Number of parameters in CNN-ResNet with 3-level blocks and 4 FC: 744074\n",
      "Number of parameters in CNN-ResNet with 3-level blocks and 2 FC: 732298\n"
     ]
    }
   ],
   "source": [
    "# Commenting on the performance and number of parameters\n",
    "print(\"Number of parameters in CNN-ResNet with 4-level blocks and 2 FC:\", sum(p.numel() for p in cnn_resnet_4level.parameters()))\n",
    "print(\"Number of parameters in CNN-ResNet with 3-level blocks and 4 FC:\", sum(p.numel() for p in cnn_resnet_3level.parameters()))\n",
    "print(\"Number of parameters in CNN-ResNet with 3-level blocks and 2 FC:\", sum(p.numel() for p in cnn_resnet.parameters()))"
   ]
  },
  {
   "cell_type": "markdown",
   "id": "7c91a41c",
   "metadata": {
    "editable": false,
    "papermill": {
     "duration": 0.073956,
     "end_time": "2024-04-02T16:52:42.584784",
     "exception": false,
     "start_time": "2024-04-02T16:52:42.510828",
     "status": "completed"
    },
    "tags": []
   },
   "source": [
    "### Comparing Resnet model with 3 blocks and 4 Fcs & Resnet model with 4 blocks and 2 Fcs"
   ]
  },
  {
   "cell_type": "code",
   "execution_count": 31,
   "id": "967b2954",
   "metadata": {
    "editable": false,
    "execution": {
     "iopub.execute_input": "2024-04-02T16:52:42.738490Z",
     "iopub.status.busy": "2024-04-02T16:52:42.738154Z",
     "iopub.status.idle": "2024-04-02T16:52:42.743674Z",
     "shell.execute_reply": "2024-04-02T16:52:42.742730Z"
    },
    "papermill": {
     "duration": 0.082074,
     "end_time": "2024-04-02T16:52:42.745494",
     "exception": false,
     "start_time": "2024-04-02T16:52:42.663420",
     "status": "completed"
    },
    "tags": []
   },
   "outputs": [
    {
     "name": "stdout",
     "output_type": "stream",
     "text": [
      "CNN-ResNet with 4-level blocks performs better on the given problem.\n"
     ]
    }
   ],
   "source": [
    "if accuracy_resnet_4level > accuracy_resnet_3level:\n",
    "    print(\"CNN-ResNet with 4-level blocks performs better on the given problem.\")\n",
    "elif accuracy_resnet_4level < accuracy_resnet_3level:\n",
    "    print(\"CNN-ResNet with 3-level blocks performs better on the given problem.\")\n",
    "else:\n",
    "    print(\"Both CNN-ResNet models perform equally well on the given problem.\")"
   ]
  },
  {
   "cell_type": "markdown",
   "id": "45f637e1",
   "metadata": {
    "editable": false,
    "papermill": {
     "duration": 0.074818,
     "end_time": "2024-04-02T16:52:42.894018",
     "exception": false,
     "start_time": "2024-04-02T16:52:42.819200",
     "status": "completed"
    },
    "tags": []
   },
   "source": [
    "## CNN-Resnet with 4 blocks and 2 Fcs is the Winner amongst the 2 !!"
   ]
  },
  {
   "cell_type": "markdown",
   "id": "10c3d564",
   "metadata": {
    "editable": false,
    "papermill": {
     "duration": 0.07347,
     "end_time": "2024-04-02T16:52:43.041491",
     "exception": false,
     "start_time": "2024-04-02T16:52:42.968021",
     "status": "completed"
    },
    "tags": []
   },
   "source": [
    "### Comparing Resnet model with 3 blocks and 2 Fcs & Resnet model with 3 blocks and 4 Fcs & Resnet model with 4 blocks and 2 Fcs"
   ]
  },
  {
   "cell_type": "code",
   "execution_count": 32,
   "id": "b824d831",
   "metadata": {
    "editable": false,
    "execution": {
     "iopub.execute_input": "2024-04-02T16:52:43.196697Z",
     "iopub.status.busy": "2024-04-02T16:52:43.196324Z",
     "iopub.status.idle": "2024-04-02T16:52:43.203556Z",
     "shell.execute_reply": "2024-04-02T16:52:43.202575Z"
    },
    "papermill": {
     "duration": 0.09001,
     "end_time": "2024-04-02T16:52:43.205933",
     "exception": false,
     "start_time": "2024-04-02T16:52:43.115923",
     "status": "completed"
    },
    "tags": []
   },
   "outputs": [
    {
     "name": "stdout",
     "output_type": "stream",
     "text": [
      "Among the 3 Models, CNN-ResNet with 4-level blocks and 2 Fcs performs better on the given problem.\n"
     ]
    }
   ],
   "source": [
    "if accuracy_resnet_4level > accuracy_resnet_3level:\n",
    "    if accuracy_resnet_4level > accuracy_resnet:\n",
    "        print(\"Among the 3 Models, CNN-ResNet with 4-level blocks and 2 Fcs performs better on the given problem.\")\n",
    "    else:\n",
    "        print(\"Among the 3 Models, Original CNN-ResNet performs better on the given problem.\")\n",
    "elif accuracy_resnet_4level < accuracy_resnet_3level:\n",
    "    if accuracy_resnet_3level > accuracy_resnet:\n",
    "        print(\"Among the 3 Models, CNN-ResNet with 3-level blocks and 4 Fcs performs better on the given problem.\")\n",
    "    else:\n",
    "        print(\"Among the 3 Models, Original CNN-ResNet performs better on the given problem.\")\n",
    "else:\n",
    "    if accuracy_resnet_3level > accuracy_resnet:\n",
    "        print(\"Among the 3 Models, CNN-ResNet with 3-level blocks & 4 Fcs performs equally well as CNN-ResNet with 4-level blocks & 2 Fcs on the given problem.\")\n",
    "    else:\n",
    "        print(\"Among the 3 Models, Original CNN-ResNet model perform equally well on the given problem.\")"
   ]
  },
  {
   "cell_type": "markdown",
   "id": "09f7eb3d",
   "metadata": {
    "editable": false,
    "papermill": {
     "duration": 0.082731,
     "end_time": "2024-04-02T16:52:43.374949",
     "exception": false,
     "start_time": "2024-04-02T16:52:43.292218",
     "status": "completed"
    },
    "tags": []
   },
   "source": [
    "## CNN-Resnet with 4 blocks and 2 Fcs is the Winner amongst the 2 !! Therefore increasing conv layers is better "
   ]
  },
  {
   "cell_type": "markdown",
   "id": "4d0c346f",
   "metadata": {
    "editable": false,
    "papermill": {
     "duration": 0.083217,
     "end_time": "2024-04-02T16:52:43.538068",
     "exception": false,
     "start_time": "2024-04-02T16:52:43.454851",
     "status": "completed"
    },
    "tags": []
   },
   "source": [
    "# Experiment 5: Study the Effect of Different Regularizers"
   ]
  },
  {
   "cell_type": "markdown",
   "id": "c9f00434",
   "metadata": {
    "editable": false,
    "papermill": {
     "duration": 0.088355,
     "end_time": "2024-04-02T16:52:43.707385",
     "exception": false,
     "start_time": "2024-04-02T16:52:43.619030",
     "status": "completed"
    },
    "tags": []
   },
   "source": [
    "### Defining ResNet block with BatchNorm "
   ]
  },
  {
   "cell_type": "code",
   "execution_count": 33,
   "id": "7397c82a",
   "metadata": {
    "editable": false,
    "execution": {
     "iopub.execute_input": "2024-04-02T16:52:43.864175Z",
     "iopub.status.busy": "2024-04-02T16:52:43.863367Z",
     "iopub.status.idle": "2024-04-02T16:52:43.877176Z",
     "shell.execute_reply": "2024-04-02T16:52:43.876295Z"
    },
    "papermill": {
     "duration": 0.095182,
     "end_time": "2024-04-02T16:52:43.879272",
     "exception": false,
     "start_time": "2024-04-02T16:52:43.784090",
     "status": "completed"
    },
    "tags": []
   },
   "outputs": [],
   "source": [
    "# Define the ResNet block with BatchNorm\n",
    "class ResNetBlock_BatchNorm(nn.Module):\n",
    "    def __init__(self, in_channels, out_channels, stride=1):\n",
    "        super(ResNetBlock_BatchNorm, self).__init__()\n",
    "        # Define convolutional layers\n",
    "        self.conv1 = nn.Conv2d(in_channels, out_channels, kernel_size=3, stride=stride, padding=1, bias=False)\n",
    "        self.conv2 = nn.Conv2d(out_channels, out_channels, kernel_size=3, stride=1, padding=1, bias=False)\n",
    "        # Define batch normalization layers\n",
    "        self.bn1 = nn.BatchNorm2d(out_channels)\n",
    "        self.bn2 = nn.BatchNorm2d(out_channels)\n",
    "        # Define activation function\n",
    "        self.relu = nn.ReLU(inplace=True)\n",
    "        # Define shortcut connection\n",
    "        if stride != 1 or in_channels != out_channels:\n",
    "            self.shortcut = nn.Sequential(\n",
    "                nn.Conv2d(in_channels, out_channels, kernel_size=1, stride=stride, bias=False),\n",
    "                nn.BatchNorm2d(out_channels)\n",
    "            )\n",
    "        else:\n",
    "            self.shortcut = nn.Sequential()\n",
    "\n",
    "    def forward(self, x):\n",
    "        # Forward pass through the block\n",
    "        residual = x\n",
    "        out = self.relu(self.bn1(self.conv1(x)))\n",
    "        out = self.bn2(self.conv2(out))\n",
    "        out += self.shortcut(residual)\n",
    "        out = self.relu(out)\n",
    "        return out\n",
    "\n",
    "# Define CNNResNet with BatchNorm\n",
    "class CNNResNet_BatchNorm(nn.Module):\n",
    "    def __init__(self):\n",
    "        super(CNNResNet_BatchNorm, self).__init__()\n",
    "        # Define initial convolutional layer and pooling layer\n",
    "        self.conv1 = nn.Conv2d(3, 32, 3, padding=1)\n",
    "        self.pool = nn.MaxPool2d(2, 2)\n",
    "        # Define ResNet blocks\n",
    "        self.resnet_block1 = ResNetBlock(32, 64)\n",
    "        self.resnet_block2 = ResNetBlock(32, 64)\n",
    "        self.resnet_block3 = ResNetBlock(32, 64)\n",
    "        # Define fully connected layers\n",
    "        self.fc1 = nn.Linear(64 * 8 * 8, 128)  # Updated fc1 input size\n",
    "        self.fc2 = nn.Linear(128, 10)\n",
    "\n",
    "    def forward(self, x):\n",
    "        # Forward pass through the network\n",
    "        x = self.pool(torch.relu(self.conv1(x)))\n",
    "        x = self.resnet_block1(x)\n",
    "        x = self.pool(x)\n",
    "        x = x.view(-1, 64 * 8 * 8)  # Adjusted view size\n",
    "        x = torch.relu(self.fc1(x))\n",
    "        x = self.fc2(x)\n",
    "        return x\n"
   ]
  },
  {
   "cell_type": "markdown",
   "id": "181e0912",
   "metadata": {
    "editable": false,
    "papermill": {
     "duration": 0.074958,
     "end_time": "2024-04-02T16:52:44.030764",
     "exception": false,
     "start_time": "2024-04-02T16:52:43.955806",
     "status": "completed"
    },
    "tags": []
   },
   "source": [
    "### Defining ResNet block with Dropout"
   ]
  },
  {
   "cell_type": "code",
   "execution_count": 34,
   "id": "872271b7",
   "metadata": {
    "editable": false,
    "execution": {
     "iopub.execute_input": "2024-04-02T16:52:44.182936Z",
     "iopub.status.busy": "2024-04-02T16:52:44.182170Z",
     "iopub.status.idle": "2024-04-02T16:52:44.195478Z",
     "shell.execute_reply": "2024-04-02T16:52:44.194553Z"
    },
    "papermill": {
     "duration": 0.091966,
     "end_time": "2024-04-02T16:52:44.197472",
     "exception": false,
     "start_time": "2024-04-02T16:52:44.105506",
     "status": "completed"
    },
    "tags": []
   },
   "outputs": [],
   "source": [
    "# Define the ResNet block with Dropout\n",
    "class ResNetBlock_Dropout(nn.Module):\n",
    "    def __init__(self, in_channels, out_channels, stride=1):\n",
    "        super(ResNetBlock_Dropout, self).__init__()\n",
    "        # Define convolutional layers\n",
    "        self.conv1 = nn.Conv2d(in_channels, out_channels, kernel_size=3, stride=stride, padding=1, bias=False)\n",
    "        self.conv2 = nn.Conv2d(out_channels, out_channels, kernel_size=3, stride=1, padding=1, bias=False)\n",
    "        # Define dropout layers\n",
    "        self.dropout = nn.Dropout(0.5)\n",
    "        # Define activation function\n",
    "        self.relu = nn.ReLU(inplace=True)\n",
    "        # Define shortcut connection\n",
    "        if stride != 1 or in_channels != out_channels:\n",
    "            self.shortcut = nn.Sequential(\n",
    "                nn.Conv2d(in_channels, out_channels, kernel_size=1, stride=stride, bias=False),\n",
    "                nn.Dropout(0.5)\n",
    "            )\n",
    "        else:\n",
    "            self.shortcut = nn.Sequential()\n",
    "\n",
    "    def forward(self, x):\n",
    "        # Forward pass through the block\n",
    "        residual = x\n",
    "        out = self.relu(self.dropout(self.conv1(x)))\n",
    "        out = self.dropout(self.conv2(out))\n",
    "        out += self.shortcut(residual)\n",
    "        out = self.relu(out)\n",
    "        return out\n",
    "\n",
    "# Define CNNResNet with Dropout\n",
    "class CNNResNet_Dropout(nn.Module):\n",
    "    def __init__(self):\n",
    "        super(CNNResNet_Dropout, self).__init__()\n",
    "        # Define initial convolutional layer and pooling layer\n",
    "        self.conv1 = nn.Conv2d(3, 32, 3, padding=1)\n",
    "        self.pool = nn.MaxPool2d(2, 2)\n",
    "        # Define ResNet blocks\n",
    "        self.resnet_block1 = ResNetBlock_Dropout(32, 64)\n",
    "        self.resnet_block2 = ResNetBlock_Dropout(32, 64)\n",
    "        self.resnet_block3 = ResNetBlock_Dropout(32, 64)\n",
    "        # Define fully connected layers\n",
    "        self.fc1 = nn.Linear(64 * 8 * 8, 128)  # Updated fc1 input size\n",
    "        self.fc2 = nn.Linear(128, 10)\n",
    "\n",
    "    def forward(self, x):\n",
    "        # Forward pass through the network\n",
    "        x = self.pool(torch.relu(self.conv1(x)))\n",
    "        x = self.resnet_block1(x)\n",
    "        x = self.pool(x)\n",
    "        x = x.view(-1, 64 * 8 * 8)  # Adjusted view size - Flattened\n",
    "        x = torch.relu(self.fc1(x))\n",
    "        x = self.fc2(x)\n",
    "        return x"
   ]
  },
  {
   "cell_type": "markdown",
   "id": "d0233883",
   "metadata": {
    "editable": false,
    "papermill": {
     "duration": 0.074236,
     "end_time": "2024-04-02T16:52:44.346832",
     "exception": false,
     "start_time": "2024-04-02T16:52:44.272596",
     "status": "completed"
    },
    "tags": []
   },
   "source": [
    "### Defining ResNet block with BatchNorm and Dropout"
   ]
  },
  {
   "cell_type": "code",
   "execution_count": 35,
   "id": "adb57716",
   "metadata": {
    "editable": false,
    "execution": {
     "iopub.execute_input": "2024-04-02T16:52:44.498276Z",
     "iopub.status.busy": "2024-04-02T16:52:44.497537Z",
     "iopub.status.idle": "2024-04-02T16:52:44.511400Z",
     "shell.execute_reply": "2024-04-02T16:52:44.510553Z"
    },
    "papermill": {
     "duration": 0.092555,
     "end_time": "2024-04-02T16:52:44.513323",
     "exception": false,
     "start_time": "2024-04-02T16:52:44.420768",
     "status": "completed"
    },
    "tags": []
   },
   "outputs": [],
   "source": [
    "# Define the ResNet block with Batchnorm and Dropout\n",
    "class ResNetBlock_Dropout_BatchNorm(nn.Module):\n",
    "    def __init__(self, in_channels, out_channels, stride=1):\n",
    "        super(ResNetBlock_Dropout_BatchNorm, self).__init__()\n",
    "        # Define convolutional layers\n",
    "        self.conv1 = nn.Conv2d(in_channels, out_channels, kernel_size=3, stride=stride, padding=1, bias=False)\n",
    "        self.conv2 = nn.Conv2d(out_channels, out_channels, kernel_size=3, stride=1, padding=1, bias=False)\n",
    "        # Define batch normalization layers\n",
    "        self.bn1 = nn.BatchNorm2d(out_channels)\n",
    "        self.bn2 = nn.BatchNorm2d(out_channels)\n",
    "        # Define dropout layer\n",
    "        self.dropout = nn.Dropout(0.5)\n",
    "        # Define activation function\n",
    "        self.relu = nn.ReLU(inplace=True)\n",
    "        # Define shortcut connection\n",
    "        if stride != 1 or in_channels != out_channels:\n",
    "            self.shortcut = nn.Sequential(\n",
    "                nn.Conv2d(in_channels, out_channels, kernel_size=1, stride=stride, bias=False),\n",
    "                nn.Dropout(0.5),\n",
    "                nn.BatchNorm2d(out_channels)\n",
    "            )\n",
    "        else:\n",
    "            self.shortcut = nn.Sequential()\n",
    "\n",
    "    def forward(self, x):\n",
    "        # Forward pass through the block\n",
    "        residual = x\n",
    "        out = self.relu(self.bn1(self.dropout(self.conv1(x))))\n",
    "        out = self.bn2(self.dropout(self.conv2(out)))\n",
    "        out += self.shortcut(residual)\n",
    "        out = self.relu(out)\n",
    "        return out\n",
    "\n",
    "# Define CNNResNet with Batchnorm and Dropout\n",
    "class CNNResNet_Dropout_BatchNorm(nn.Module):\n",
    "    def __init__(self):\n",
    "        super(CNNResNet_Dropout_BatchNorm, self).__init__()\n",
    "        # Define initial convolutional layer and pooling layer\n",
    "        self.conv1 = nn.Conv2d(3, 32, 3, padding=1)\n",
    "        self.pool = nn.MaxPool2d(2, 2)\n",
    "        # Define ResNet blocks\n",
    "        self.resnet_block1 = ResNetBlock_Dropout_BatchNorm(32, 64)\n",
    "        self.resnet_block2 = ResNetBlock_Dropout_BatchNorm(32, 64)\n",
    "        self.resnet_block3 = ResNetBlock_Dropout_BatchNorm(32, 64)\n",
    "        # Define fully connected layers\n",
    "        self.fc1 = nn.Linear(64 * 8 * 8, 128)  # Updated fc1 input size\n",
    "        self.fc2 = nn.Linear(128, 10)\n",
    "\n",
    "    def forward(self, x):\n",
    "        # Forward pass through the network\n",
    "        x = self.pool(torch.relu(self.conv1(x)))\n",
    "        x = self.resnet_block1(x)\n",
    "        x = self.pool(x)\n",
    "        x = x.view(-1, 64 * 8 * 8)  # Adjusted view size\n",
    "        x = torch.relu(self.fc1(x))\n",
    "        x = self.fc2(x)\n",
    "        return x\n"
   ]
  },
  {
   "cell_type": "markdown",
   "id": "6be0204c",
   "metadata": {
    "editable": false,
    "papermill": {
     "duration": 0.073438,
     "end_time": "2024-04-02T16:52:44.662436",
     "exception": false,
     "start_time": "2024-04-02T16:52:44.588998",
     "status": "completed"
    },
    "tags": []
   },
   "source": [
    "### Initializing Models and their Optimizers"
   ]
  },
  {
   "cell_type": "code",
   "execution_count": 36,
   "id": "8a07e6d7",
   "metadata": {
    "editable": false,
    "execution": {
     "iopub.execute_input": "2024-04-02T16:52:44.813526Z",
     "iopub.status.busy": "2024-04-02T16:52:44.813202Z",
     "iopub.status.idle": "2024-04-02T16:52:44.853638Z",
     "shell.execute_reply": "2024-04-02T16:52:44.852755Z"
    },
    "papermill": {
     "duration": 0.118497,
     "end_time": "2024-04-02T16:52:44.855886",
     "exception": false,
     "start_time": "2024-04-02T16:52:44.737389",
     "status": "completed"
    },
    "tags": []
   },
   "outputs": [
    {
     "name": "stdout",
     "output_type": "stream",
     "text": [
      "CNNResNet_BatchNorm(\n",
      "  (conv1): Conv2d(3, 32, kernel_size=(3, 3), stride=(1, 1), padding=(1, 1))\n",
      "  (pool): MaxPool2d(kernel_size=2, stride=2, padding=0, dilation=1, ceil_mode=False)\n",
      "  (resnet_block1): ResNetBlock(\n",
      "    (conv1): Conv2d(32, 64, kernel_size=(3, 3), stride=(1, 1), padding=(1, 1), bias=False)\n",
      "    (bn1): BatchNorm2d(64, eps=1e-05, momentum=0.1, affine=True, track_running_stats=True)\n",
      "    (relu): ReLU(inplace=True)\n",
      "    (conv2): Conv2d(64, 64, kernel_size=(3, 3), stride=(1, 1), padding=(1, 1), bias=False)\n",
      "    (bn2): BatchNorm2d(64, eps=1e-05, momentum=0.1, affine=True, track_running_stats=True)\n",
      "    (shortcut): Sequential(\n",
      "      (0): Conv2d(32, 64, kernel_size=(1, 1), stride=(1, 1), bias=False)\n",
      "      (1): BatchNorm2d(64, eps=1e-05, momentum=0.1, affine=True, track_running_stats=True)\n",
      "    )\n",
      "  )\n",
      "  (resnet_block2): ResNetBlock(\n",
      "    (conv1): Conv2d(32, 64, kernel_size=(3, 3), stride=(1, 1), padding=(1, 1), bias=False)\n",
      "    (bn1): BatchNorm2d(64, eps=1e-05, momentum=0.1, affine=True, track_running_stats=True)\n",
      "    (relu): ReLU(inplace=True)\n",
      "    (conv2): Conv2d(64, 64, kernel_size=(3, 3), stride=(1, 1), padding=(1, 1), bias=False)\n",
      "    (bn2): BatchNorm2d(64, eps=1e-05, momentum=0.1, affine=True, track_running_stats=True)\n",
      "    (shortcut): Sequential(\n",
      "      (0): Conv2d(32, 64, kernel_size=(1, 1), stride=(1, 1), bias=False)\n",
      "      (1): BatchNorm2d(64, eps=1e-05, momentum=0.1, affine=True, track_running_stats=True)\n",
      "    )\n",
      "  )\n",
      "  (resnet_block3): ResNetBlock(\n",
      "    (conv1): Conv2d(32, 64, kernel_size=(3, 3), stride=(1, 1), padding=(1, 1), bias=False)\n",
      "    (bn1): BatchNorm2d(64, eps=1e-05, momentum=0.1, affine=True, track_running_stats=True)\n",
      "    (relu): ReLU(inplace=True)\n",
      "    (conv2): Conv2d(64, 64, kernel_size=(3, 3), stride=(1, 1), padding=(1, 1), bias=False)\n",
      "    (bn2): BatchNorm2d(64, eps=1e-05, momentum=0.1, affine=True, track_running_stats=True)\n",
      "    (shortcut): Sequential(\n",
      "      (0): Conv2d(32, 64, kernel_size=(1, 1), stride=(1, 1), bias=False)\n",
      "      (1): BatchNorm2d(64, eps=1e-05, momentum=0.1, affine=True, track_running_stats=True)\n",
      "    )\n",
      "  )\n",
      "  (fc1): Linear(in_features=4096, out_features=128, bias=True)\n",
      "  (fc2): Linear(in_features=128, out_features=10, bias=True)\n",
      ")\n",
      "CNNResNet_Dropout(\n",
      "  (conv1): Conv2d(3, 32, kernel_size=(3, 3), stride=(1, 1), padding=(1, 1))\n",
      "  (pool): MaxPool2d(kernel_size=2, stride=2, padding=0, dilation=1, ceil_mode=False)\n",
      "  (resnet_block1): ResNetBlock_Dropout(\n",
      "    (conv1): Conv2d(32, 64, kernel_size=(3, 3), stride=(1, 1), padding=(1, 1), bias=False)\n",
      "    (conv2): Conv2d(64, 64, kernel_size=(3, 3), stride=(1, 1), padding=(1, 1), bias=False)\n",
      "    (dropout): Dropout(p=0.5, inplace=False)\n",
      "    (relu): ReLU(inplace=True)\n",
      "    (shortcut): Sequential(\n",
      "      (0): Conv2d(32, 64, kernel_size=(1, 1), stride=(1, 1), bias=False)\n",
      "      (1): Dropout(p=0.5, inplace=False)\n",
      "    )\n",
      "  )\n",
      "  (resnet_block2): ResNetBlock_Dropout(\n",
      "    (conv1): Conv2d(32, 64, kernel_size=(3, 3), stride=(1, 1), padding=(1, 1), bias=False)\n",
      "    (conv2): Conv2d(64, 64, kernel_size=(3, 3), stride=(1, 1), padding=(1, 1), bias=False)\n",
      "    (dropout): Dropout(p=0.5, inplace=False)\n",
      "    (relu): ReLU(inplace=True)\n",
      "    (shortcut): Sequential(\n",
      "      (0): Conv2d(32, 64, kernel_size=(1, 1), stride=(1, 1), bias=False)\n",
      "      (1): Dropout(p=0.5, inplace=False)\n",
      "    )\n",
      "  )\n",
      "  (resnet_block3): ResNetBlock_Dropout(\n",
      "    (conv1): Conv2d(32, 64, kernel_size=(3, 3), stride=(1, 1), padding=(1, 1), bias=False)\n",
      "    (conv2): Conv2d(64, 64, kernel_size=(3, 3), stride=(1, 1), padding=(1, 1), bias=False)\n",
      "    (dropout): Dropout(p=0.5, inplace=False)\n",
      "    (relu): ReLU(inplace=True)\n",
      "    (shortcut): Sequential(\n",
      "      (0): Conv2d(32, 64, kernel_size=(1, 1), stride=(1, 1), bias=False)\n",
      "      (1): Dropout(p=0.5, inplace=False)\n",
      "    )\n",
      "  )\n",
      "  (fc1): Linear(in_features=4096, out_features=128, bias=True)\n",
      "  (fc2): Linear(in_features=128, out_features=10, bias=True)\n",
      ")\n",
      "CNNResNet_Dropout_BatchNorm(\n",
      "  (conv1): Conv2d(3, 32, kernel_size=(3, 3), stride=(1, 1), padding=(1, 1))\n",
      "  (pool): MaxPool2d(kernel_size=2, stride=2, padding=0, dilation=1, ceil_mode=False)\n",
      "  (resnet_block1): ResNetBlock_Dropout_BatchNorm(\n",
      "    (conv1): Conv2d(32, 64, kernel_size=(3, 3), stride=(1, 1), padding=(1, 1), bias=False)\n",
      "    (conv2): Conv2d(64, 64, kernel_size=(3, 3), stride=(1, 1), padding=(1, 1), bias=False)\n",
      "    (bn1): BatchNorm2d(64, eps=1e-05, momentum=0.1, affine=True, track_running_stats=True)\n",
      "    (bn2): BatchNorm2d(64, eps=1e-05, momentum=0.1, affine=True, track_running_stats=True)\n",
      "    (dropout): Dropout(p=0.5, inplace=False)\n",
      "    (relu): ReLU(inplace=True)\n",
      "    (shortcut): Sequential(\n",
      "      (0): Conv2d(32, 64, kernel_size=(1, 1), stride=(1, 1), bias=False)\n",
      "      (1): Dropout(p=0.5, inplace=False)\n",
      "      (2): BatchNorm2d(64, eps=1e-05, momentum=0.1, affine=True, track_running_stats=True)\n",
      "    )\n",
      "  )\n",
      "  (resnet_block2): ResNetBlock_Dropout_BatchNorm(\n",
      "    (conv1): Conv2d(32, 64, kernel_size=(3, 3), stride=(1, 1), padding=(1, 1), bias=False)\n",
      "    (conv2): Conv2d(64, 64, kernel_size=(3, 3), stride=(1, 1), padding=(1, 1), bias=False)\n",
      "    (bn1): BatchNorm2d(64, eps=1e-05, momentum=0.1, affine=True, track_running_stats=True)\n",
      "    (bn2): BatchNorm2d(64, eps=1e-05, momentum=0.1, affine=True, track_running_stats=True)\n",
      "    (dropout): Dropout(p=0.5, inplace=False)\n",
      "    (relu): ReLU(inplace=True)\n",
      "    (shortcut): Sequential(\n",
      "      (0): Conv2d(32, 64, kernel_size=(1, 1), stride=(1, 1), bias=False)\n",
      "      (1): Dropout(p=0.5, inplace=False)\n",
      "      (2): BatchNorm2d(64, eps=1e-05, momentum=0.1, affine=True, track_running_stats=True)\n",
      "    )\n",
      "  )\n",
      "  (resnet_block3): ResNetBlock_Dropout_BatchNorm(\n",
      "    (conv1): Conv2d(32, 64, kernel_size=(3, 3), stride=(1, 1), padding=(1, 1), bias=False)\n",
      "    (conv2): Conv2d(64, 64, kernel_size=(3, 3), stride=(1, 1), padding=(1, 1), bias=False)\n",
      "    (bn1): BatchNorm2d(64, eps=1e-05, momentum=0.1, affine=True, track_running_stats=True)\n",
      "    (bn2): BatchNorm2d(64, eps=1e-05, momentum=0.1, affine=True, track_running_stats=True)\n",
      "    (dropout): Dropout(p=0.5, inplace=False)\n",
      "    (relu): ReLU(inplace=True)\n",
      "    (shortcut): Sequential(\n",
      "      (0): Conv2d(32, 64, kernel_size=(1, 1), stride=(1, 1), bias=False)\n",
      "      (1): Dropout(p=0.5, inplace=False)\n",
      "      (2): BatchNorm2d(64, eps=1e-05, momentum=0.1, affine=True, track_running_stats=True)\n",
      "    )\n",
      "  )\n",
      "  (fc1): Linear(in_features=4096, out_features=128, bias=True)\n",
      "  (fc2): Linear(in_features=128, out_features=10, bias=True)\n",
      ")\n"
     ]
    }
   ],
   "source": [
    "# Initialize models\n",
    "cnn_resnet_batchnorm = CNNResNet_BatchNorm()\n",
    "cnn_resnet_dropout = CNNResNet_Dropout()\n",
    "cnn_resnet_dropout_batchnorm = CNNResNet_Dropout_BatchNorm()\n",
    "\n",
    "cnn_resnet_batchnorm.to(device)\n",
    "cnn_resnet_dropout.to(device)\n",
    "cnn_resnet_dropout_batchnorm.to(device)\n",
    "\n",
    "# Define optimizers\n",
    "optimizer_cnn_resnet_batchnorm = optim.Adam(cnn_resnet_batchnorm.parameters(), lr=0.001)\n",
    "optimizer_cnn_resnet_dropout = optim.Adam(cnn_resnet_dropout.parameters(), lr=0.001)\n",
    "optimizer_cnn_resnet_dropout_batchnorm = optim.Adam(cnn_resnet_dropout_batchnorm.parameters(), lr=0.001)\n",
    "\n",
    "print(cnn_resnet_batchnorm)\n",
    "print(cnn_resnet_dropout)\n",
    "print(cnn_resnet_dropout_batchnorm)"
   ]
  },
  {
   "cell_type": "markdown",
   "id": "f4186e05",
   "metadata": {
    "editable": false,
    "papermill": {
     "duration": 0.073836,
     "end_time": "2024-04-02T16:52:45.005954",
     "exception": false,
     "start_time": "2024-04-02T16:52:44.932118",
     "status": "completed"
    },
    "tags": []
   },
   "source": [
    "### Defining Training Function which also evaluates model on test data every Epoch"
   ]
  },
  {
   "cell_type": "code",
   "execution_count": 37,
   "id": "f86c4b6c",
   "metadata": {
    "editable": false,
    "execution": {
     "iopub.execute_input": "2024-04-02T16:52:45.159548Z",
     "iopub.status.busy": "2024-04-02T16:52:45.159204Z",
     "iopub.status.idle": "2024-04-02T16:52:45.168512Z",
     "shell.execute_reply": "2024-04-02T16:52:45.167507Z"
    },
    "papermill": {
     "duration": 0.088818,
     "end_time": "2024-04-02T16:52:45.170349",
     "exception": false,
     "start_time": "2024-04-02T16:52:45.081531",
     "status": "completed"
    },
    "tags": []
   },
   "outputs": [],
   "source": [
    "def train_test_model(model, trainloader, criterion, optimizer, testloader, num_epochs=50):\n",
    "    model.train()\n",
    "    train_accuracy_history = []  # List to store training accuracy for each epoch\n",
    "    test_accuracy_history = []   # List to store test accuracy for each epoch\n",
    "    \n",
    "    for epoch in range(num_epochs):\n",
    "        running_loss = 0.0\n",
    "        correct_predictions = 0\n",
    "        total_predictions = 0\n",
    "        for i, data in enumerate(trainloader, 0):\n",
    "            inputs, labels = data[0].to(device), data[1].to(device)\n",
    "            optimizer.zero_grad()\n",
    "            outputs = model(inputs)\n",
    "            loss = criterion(outputs, labels)\n",
    "            loss.backward()\n",
    "            optimizer.step()\n",
    "\n",
    "            running_loss += loss.item()\n",
    "            _, predicted = torch.max(outputs.data, 1)\n",
    "            total_predictions += labels.size(0)\n",
    "            correct_predictions += (predicted == labels).sum().item()\n",
    "\n",
    "        # Calculate accuracy for the epoch\n",
    "        epoch_accuracy = correct_predictions / total_predictions\n",
    "        train_accuracy_history.append(epoch_accuracy)\n",
    "        \n",
    "        # Evaluation phase\n",
    "        test_accuracy = evaluate_model(model, testloader)\n",
    "        test_accuracy_history.append(test_accuracy)\n",
    "\n",
    "        print(f'Epoch {epoch+1}, Loss: {running_loss / len(trainloader)}, Accuracy: {epoch_accuracy:.2%}')\n",
    "\n",
    "    return test_accuracy_history\n"
   ]
  },
  {
   "cell_type": "markdown",
   "id": "c58d24c0",
   "metadata": {
    "editable": false,
    "papermill": {
     "duration": 0.135963,
     "end_time": "2024-04-02T16:52:45.382355",
     "exception": false,
     "start_time": "2024-04-02T16:52:45.246392",
     "status": "completed"
    },
    "tags": []
   },
   "source": [
    "### Training Model with  Batch Normalization"
   ]
  },
  {
   "cell_type": "code",
   "execution_count": 38,
   "id": "6e7e564c",
   "metadata": {
    "editable": false,
    "execution": {
     "iopub.execute_input": "2024-04-02T16:52:45.538064Z",
     "iopub.status.busy": "2024-04-02T16:52:45.537332Z",
     "iopub.status.idle": "2024-04-02T17:05:26.649552Z",
     "shell.execute_reply": "2024-04-02T17:05:26.648611Z"
    },
    "papermill": {
     "duration": 761.193376,
     "end_time": "2024-04-02T17:05:26.651694",
     "exception": false,
     "start_time": "2024-04-02T16:52:45.458318",
     "status": "completed"
    },
    "tags": []
   },
   "outputs": [
    {
     "name": "stdout",
     "output_type": "stream",
     "text": [
      "Training CNN Resnet with Batch Norm\n",
      "Epoch 1, Loss: 1.3356595094106636, Accuracy: 51.81%\n",
      "Epoch 2, Loss: 0.9422734398014692, Accuracy: 66.67%\n",
      "Epoch 3, Loss: 0.7871792726978963, Accuracy: 72.22%\n",
      "Epoch 4, Loss: 0.6847812648938627, Accuracy: 75.96%\n",
      "Epoch 5, Loss: 0.5934651735789922, Accuracy: 79.19%\n",
      "Epoch 6, Loss: 0.5078055426782492, Accuracy: 82.34%\n",
      "Epoch 7, Loss: 0.4433463668944884, Accuracy: 84.60%\n",
      "Epoch 8, Loss: 0.36855745581643923, Accuracy: 86.92%\n",
      "Epoch 9, Loss: 0.3068259683798771, Accuracy: 89.34%\n",
      "Epoch 10, Loss: 0.2547240448849542, Accuracy: 91.03%\n",
      "Epoch 11, Loss: 0.20124912649697188, Accuracy: 92.96%\n",
      "Epoch 12, Loss: 0.16541569809220275, Accuracy: 94.23%\n",
      "Epoch 13, Loss: 0.12930488324134934, Accuracy: 95.53%\n",
      "Epoch 14, Loss: 0.10502571030995067, Accuracy: 96.42%\n",
      "Epoch 15, Loss: 0.10436521711930329, Accuracy: 96.32%\n",
      "Epoch 16, Loss: 0.10979535354643452, Accuracy: 96.11%\n",
      "Epoch 17, Loss: 0.07713580593390733, Accuracy: 97.31%\n",
      "Epoch 18, Loss: 0.07386460216069708, Accuracy: 97.36%\n",
      "Epoch 19, Loss: 0.08405790105462074, Accuracy: 96.94%\n",
      "Epoch 20, Loss: 0.0721456108766855, Accuracy: 97.47%\n",
      "Epoch 21, Loss: 0.06616110207360922, Accuracy: 97.68%\n",
      "Epoch 22, Loss: 0.05341700966260871, Accuracy: 98.11%\n",
      "Epoch 23, Loss: 0.061959548986383846, Accuracy: 97.85%\n",
      "Epoch 24, Loss: 0.064559209935025, Accuracy: 97.77%\n",
      "Epoch 25, Loss: 0.07213442346879415, Accuracy: 97.44%\n",
      "Epoch 26, Loss: 0.05961191200898314, Accuracy: 97.88%\n",
      "Epoch 27, Loss: 0.05115716716236606, Accuracy: 98.21%\n",
      "Epoch 28, Loss: 0.04715952501461214, Accuracy: 98.39%\n",
      "Epoch 29, Loss: 0.03872868007676182, Accuracy: 98.63%\n",
      "Epoch 30, Loss: 0.0529080636001059, Accuracy: 98.15%\n",
      "Epoch 31, Loss: 0.06297224753878403, Accuracy: 97.84%\n",
      "Epoch 32, Loss: 0.05039451249913141, Accuracy: 98.22%\n",
      "Epoch 33, Loss: 0.050921686045939524, Accuracy: 98.26%\n",
      "Epoch 34, Loss: 0.05617954120353549, Accuracy: 98.04%\n",
      "Epoch 35, Loss: 0.04688018021810496, Accuracy: 98.48%\n",
      "Epoch 36, Loss: 0.04370588627976498, Accuracy: 98.52%\n",
      "Epoch 37, Loss: 0.03837093364741957, Accuracy: 98.70%\n",
      "Epoch 38, Loss: 0.03550197947081368, Accuracy: 98.79%\n",
      "Epoch 39, Loss: 0.02917871064131091, Accuracy: 99.00%\n",
      "Epoch 40, Loss: 0.05525934866068847, Accuracy: 98.21%\n",
      "Epoch 41, Loss: 0.05848680162678796, Accuracy: 98.12%\n",
      "Epoch 42, Loss: 0.042464124765817304, Accuracy: 98.49%\n",
      "Epoch 43, Loss: 0.04054193381738032, Accuracy: 98.67%\n",
      "Epoch 44, Loss: 0.035964535677577465, Accuracy: 98.77%\n",
      "Epoch 45, Loss: 0.029641056115553732, Accuracy: 99.04%\n",
      "Epoch 46, Loss: 0.03439689060965344, Accuracy: 98.84%\n",
      "Epoch 47, Loss: 0.028385927544298525, Accuracy: 99.04%\n",
      "Epoch 48, Loss: 0.04821459869307713, Accuracy: 98.39%\n",
      "Epoch 49, Loss: 0.058334305946601134, Accuracy: 98.06%\n",
      "Epoch 50, Loss: 0.03299647403586352, Accuracy: 98.94%\n"
     ]
    }
   ],
   "source": [
    "# Train the models with different regularizers\n",
    "print(\"Training CNN Resnet with Batch Norm\")\n",
    "test_accuracy_bn = train_test_model(cnn_resnet_batchnorm, trainloader, criterion, optimizer_cnn_resnet_batchnorm, testloader)"
   ]
  },
  {
   "cell_type": "markdown",
   "id": "2ba19ea9",
   "metadata": {
    "editable": false,
    "papermill": {
     "duration": 0.082684,
     "end_time": "2024-04-02T17:05:26.813006",
     "exception": false,
     "start_time": "2024-04-02T17:05:26.730322",
     "status": "completed"
    },
    "tags": []
   },
   "source": [
    "### Training Model with Dropout"
   ]
  },
  {
   "cell_type": "code",
   "execution_count": 39,
   "id": "4cdb3fc3",
   "metadata": {
    "editable": false,
    "execution": {
     "iopub.execute_input": "2024-04-02T17:05:26.988038Z",
     "iopub.status.busy": "2024-04-02T17:05:26.987667Z",
     "iopub.status.idle": "2024-04-02T17:17:55.770419Z",
     "shell.execute_reply": "2024-04-02T17:17:55.769451Z"
    },
    "papermill": {
     "duration": 748.956082,
     "end_time": "2024-04-02T17:17:55.856844",
     "exception": false,
     "start_time": "2024-04-02T17:05:26.900762",
     "status": "completed"
    },
    "tags": []
   },
   "outputs": [
    {
     "name": "stdout",
     "output_type": "stream",
     "text": [
      "Training CNN Resnet with Dropout\n",
      "Epoch 1, Loss: 1.4716575644454177, Accuracy: 47.40%\n",
      "Epoch 2, Loss: 1.0704431938273566, Accuracy: 62.39%\n",
      "Epoch 3, Loss: 0.8832807413169316, Accuracy: 69.18%\n",
      "Epoch 4, Loss: 0.7722450969170551, Accuracy: 73.09%\n",
      "Epoch 5, Loss: 0.6718563750690344, Accuracy: 76.68%\n",
      "Epoch 6, Loss: 0.5942377990909985, Accuracy: 79.56%\n",
      "Epoch 7, Loss: 0.5134556433376001, Accuracy: 82.30%\n",
      "Epoch 8, Loss: 0.4501600124093951, Accuracy: 84.37%\n",
      "Epoch 9, Loss: 0.37619348896705374, Accuracy: 86.98%\n",
      "Epoch 10, Loss: 0.3012049776711026, Accuracy: 89.62%\n",
      "Epoch 11, Loss: 0.24745189284487645, Accuracy: 91.64%\n",
      "Epoch 12, Loss: 0.1919419236329137, Accuracy: 93.59%\n",
      "Epoch 13, Loss: 0.14722406951596542, Accuracy: 95.11%\n",
      "Epoch 14, Loss: 0.1274622043556705, Accuracy: 95.79%\n",
      "Epoch 15, Loss: 0.09170363636269253, Accuracy: 96.99%\n",
      "Epoch 16, Loss: 0.07346216279405113, Accuracy: 97.66%\n",
      "Epoch 17, Loss: 0.06012013566927338, Accuracy: 98.11%\n",
      "Epoch 18, Loss: 0.07892288631588525, Accuracy: 97.25%\n",
      "Epoch 19, Loss: 0.042409800401679715, Accuracy: 98.69%\n",
      "Epoch 20, Loss: 0.043238976038992405, Accuracy: 98.56%\n",
      "Epoch 21, Loss: 0.056595517094342074, Accuracy: 98.10%\n",
      "Epoch 22, Loss: 0.04666432450354403, Accuracy: 98.44%\n",
      "Epoch 23, Loss: 0.05488176575899884, Accuracy: 98.11%\n",
      "Epoch 24, Loss: 0.031143237969705036, Accuracy: 99.01%\n",
      "Epoch 25, Loss: 0.03589097184262106, Accuracy: 98.82%\n",
      "Epoch 26, Loss: 0.046210900633310785, Accuracy: 98.39%\n",
      "Epoch 27, Loss: 0.040700419425812304, Accuracy: 98.62%\n",
      "Epoch 28, Loss: 0.035327637114334016, Accuracy: 98.87%\n",
      "Epoch 29, Loss: 0.05797733331327232, Accuracy: 98.09%\n",
      "Epoch 30, Loss: 0.034571149940032284, Accuracy: 98.78%\n",
      "Epoch 31, Loss: 0.04254675682453553, Accuracy: 98.53%\n",
      "Epoch 32, Loss: 0.03219743037468051, Accuracy: 98.91%\n",
      "Epoch 33, Loss: 0.023499811188156278, Accuracy: 99.22%\n",
      "Epoch 34, Loss: 0.03164961560135137, Accuracy: 98.90%\n",
      "Epoch 35, Loss: 0.043757483807430435, Accuracy: 98.42%\n",
      "Epoch 36, Loss: 0.04710783776874673, Accuracy: 98.35%\n",
      "Epoch 37, Loss: 0.024667462003797446, Accuracy: 99.13%\n",
      "Epoch 38, Loss: 0.03348838104581346, Accuracy: 98.82%\n",
      "Epoch 39, Loss: 0.021455474323783145, Accuracy: 99.24%\n",
      "Epoch 40, Loss: 0.03166514149349069, Accuracy: 98.90%\n",
      "Epoch 41, Loss: 0.027277365160573806, Accuracy: 99.04%\n",
      "Epoch 42, Loss: 0.03650963436146932, Accuracy: 98.80%\n",
      "Epoch 43, Loss: 0.03624643664331917, Accuracy: 98.73%\n",
      "Epoch 44, Loss: 0.03409637200850423, Accuracy: 98.81%\n",
      "Epoch 45, Loss: 0.02009364642673267, Accuracy: 99.28%\n",
      "Epoch 46, Loss: 0.024725559210922683, Accuracy: 99.16%\n",
      "Epoch 47, Loss: 0.021601496215040168, Accuracy: 99.28%\n",
      "Epoch 48, Loss: 0.03895231814667754, Accuracy: 98.79%\n",
      "Epoch 49, Loss: 0.02890130899411778, Accuracy: 99.00%\n",
      "Epoch 50, Loss: 0.03512099477918629, Accuracy: 98.84%\n"
     ]
    }
   ],
   "source": [
    "print(\"Training CNN Resnet with Dropout\")\n",
    "test_accuracy_dropout = train_test_model(cnn_resnet_dropout, trainloader, criterion, optimizer_cnn_resnet_dropout, testloader)"
   ]
  },
  {
   "cell_type": "markdown",
   "id": "79c2e30d",
   "metadata": {
    "editable": false,
    "papermill": {
     "duration": 0.084587,
     "end_time": "2024-04-02T17:17:56.024051",
     "exception": false,
     "start_time": "2024-04-02T17:17:55.939464",
     "status": "completed"
    },
    "tags": []
   },
   "source": [
    "### Training Model with  Batch Normalization and Dropout"
   ]
  },
  {
   "cell_type": "code",
   "execution_count": 40,
   "id": "01689d78",
   "metadata": {
    "editable": false,
    "execution": {
     "iopub.execute_input": "2024-04-02T17:17:56.192742Z",
     "iopub.status.busy": "2024-04-02T17:17:56.192369Z",
     "iopub.status.idle": "2024-04-02T17:30:39.269262Z",
     "shell.execute_reply": "2024-04-02T17:30:39.268151Z"
    },
    "papermill": {
     "duration": 763.253221,
     "end_time": "2024-04-02T17:30:39.360377",
     "exception": false,
     "start_time": "2024-04-02T17:17:56.107156",
     "status": "completed"
    },
    "tags": []
   },
   "outputs": [
    {
     "name": "stdout",
     "output_type": "stream",
     "text": [
      "Training CNN Resnet with Batch Norm and Dropout\n",
      "Epoch 1, Loss: 1.73270326427051, Accuracy: 38.93%\n",
      "Epoch 2, Loss: 1.2377028301054118, Accuracy: 55.78%\n",
      "Epoch 3, Loss: 1.0362947227395312, Accuracy: 63.40%\n",
      "Epoch 4, Loss: 0.9074722896425091, Accuracy: 68.25%\n",
      "Epoch 5, Loss: 0.8142508891772251, Accuracy: 71.48%\n",
      "Epoch 6, Loss: 0.7442261576652527, Accuracy: 73.97%\n",
      "Epoch 7, Loss: 0.6910008417100323, Accuracy: 75.86%\n",
      "Epoch 8, Loss: 0.6434815227985382, Accuracy: 77.58%\n",
      "Epoch 9, Loss: 0.5868743141086734, Accuracy: 79.41%\n",
      "Epoch 10, Loss: 0.5425001303760373, Accuracy: 81.19%\n",
      "Epoch 11, Loss: 0.502334398274519, Accuracy: 82.54%\n",
      "Epoch 12, Loss: 0.4642230281416251, Accuracy: 83.79%\n",
      "Epoch 13, Loss: 0.42955197834846925, Accuracy: 85.00%\n",
      "Epoch 14, Loss: 0.3922140330684428, Accuracy: 86.40%\n",
      "Epoch 15, Loss: 0.3621311705483466, Accuracy: 87.28%\n",
      "Epoch 16, Loss: 0.3170371228943066, Accuracy: 88.93%\n",
      "Epoch 17, Loss: 0.29290681263926077, Accuracy: 89.70%\n",
      "Epoch 18, Loss: 0.2659926300450247, Accuracy: 90.76%\n",
      "Epoch 19, Loss: 0.24437856552552203, Accuracy: 91.42%\n",
      "Epoch 20, Loss: 0.21500477460878237, Accuracy: 92.57%\n",
      "Epoch 21, Loss: 0.19227971147973927, Accuracy: 93.25%\n",
      "Epoch 22, Loss: 0.16940821916321103, Accuracy: 94.01%\n",
      "Epoch 23, Loss: 0.14940355410229186, Accuracy: 94.84%\n",
      "Epoch 24, Loss: 0.13736479482328406, Accuracy: 95.10%\n",
      "Epoch 25, Loss: 0.1269100473965613, Accuracy: 95.48%\n",
      "Epoch 26, Loss: 0.11257530592990164, Accuracy: 96.04%\n",
      "Epoch 27, Loss: 0.09565645007758725, Accuracy: 96.69%\n",
      "Epoch 28, Loss: 0.10441938481692757, Accuracy: 96.16%\n",
      "Epoch 29, Loss: 0.0865485230460763, Accuracy: 96.89%\n",
      "Epoch 30, Loss: 0.07952194140121645, Accuracy: 97.21%\n",
      "Epoch 31, Loss: 0.07429604093563191, Accuracy: 97.39%\n",
      "Epoch 32, Loss: 0.07910073217840827, Accuracy: 97.05%\n",
      "Epoch 33, Loss: 0.08131769770870403, Accuracy: 97.11%\n",
      "Epoch 34, Loss: 0.055717989826118766, Accuracy: 98.07%\n",
      "Epoch 35, Loss: 0.055216176102736166, Accuracy: 98.04%\n",
      "Epoch 36, Loss: 0.06660973737776583, Accuracy: 97.60%\n",
      "Epoch 37, Loss: 0.06939945297733861, Accuracy: 97.50%\n",
      "Epoch 38, Loss: 0.06805632386014474, Accuracy: 97.55%\n",
      "Epoch 39, Loss: 0.07097061216945247, Accuracy: 97.41%\n",
      "Epoch 40, Loss: 0.06921623015244092, Accuracy: 97.51%\n",
      "Epoch 41, Loss: 0.05755876232299725, Accuracy: 97.96%\n",
      "Epoch 42, Loss: 0.03059329746804219, Accuracy: 98.94%\n",
      "Epoch 43, Loss: 0.050434903716858555, Accuracy: 98.22%\n",
      "Epoch 44, Loss: 0.04183586947002201, Accuracy: 98.54%\n",
      "Epoch 45, Loss: 0.06607141713516748, Accuracy: 97.70%\n",
      "Epoch 46, Loss: 0.06433049127535552, Accuracy: 97.75%\n",
      "Epoch 47, Loss: 0.06002999855471509, Accuracy: 97.90%\n",
      "Epoch 48, Loss: 0.03958251984428843, Accuracy: 98.57%\n",
      "Epoch 49, Loss: 0.023078400741464326, Accuracy: 99.26%\n",
      "Epoch 50, Loss: 0.04257899533472575, Accuracy: 98.50%\n"
     ]
    }
   ],
   "source": [
    "print(\"Training CNN Resnet with Batch Norm and Dropout\")\n",
    "test_accuracy_dropout_bn = train_test_model(cnn_resnet_dropout_batchnorm, trainloader, criterion, optimizer_cnn_resnet_dropout_batchnorm, testloader)"
   ]
  },
  {
   "cell_type": "markdown",
   "id": "c21076c5",
   "metadata": {
    "editable": false,
    "papermill": {
     "duration": 0.089295,
     "end_time": "2024-04-02T17:30:39.539197",
     "exception": false,
     "start_time": "2024-04-02T17:30:39.449902",
     "status": "completed"
    },
    "tags": []
   },
   "source": [
    "### Plot testing accuracy vs epochs for the three cases"
   ]
  },
  {
   "cell_type": "code",
   "execution_count": 41,
   "id": "33f9f2f0",
   "metadata": {
    "editable": false,
    "execution": {
     "iopub.execute_input": "2024-04-02T17:30:39.715186Z",
     "iopub.status.busy": "2024-04-02T17:30:39.714833Z",
     "iopub.status.idle": "2024-04-02T17:30:39.947593Z",
     "shell.execute_reply": "2024-04-02T17:30:39.946669Z"
    },
    "papermill": {
     "duration": 0.323039,
     "end_time": "2024-04-02T17:30:39.949541",
     "exception": false,
     "start_time": "2024-04-02T17:30:39.626502",
     "status": "completed"
    },
    "tags": []
   },
   "outputs": [
    {
     "data": {
      "image/png": "[encoded data removed]",
      "text/plain": [
       "<Figure size 640x480 with 1 Axes>"
      ]
     },
     "metadata": {},
     "output_type": "display_data"
    }
   ],
   "source": [
    "# Plot testing accuracy vs epochs for the three cases\n",
    "plt.plot(range(1, len(test_accuracy_bn) + 1), test_accuracy_bn, label='Batch Normalization')\n",
    "plt.plot(range(1, len(test_accuracy_dropout) + 1), test_accuracy_dropout, label='Dropout')\n",
    "plt.plot(range(1, len(test_accuracy_dropout_bn) + 1), test_accuracy_dropout_bn, label='Batch Norm + Dropout')\n",
    "plt.title('Testing Accuracy vs Epochs')\n",
    "plt.xlabel('Epochs')\n",
    "plt.ylabel('Testing Accuracy')\n",
    "plt.legend()\n",
    "plt.show()"
   ]
  },
  {
   "cell_type": "markdown",
   "id": "0b1f6a9d",
   "metadata": {
    "editable": false,
    "papermill": {
     "duration": 0.087951,
     "end_time": "2024-04-02T17:30:40.126713",
     "exception": false,
     "start_time": "2024-04-02T17:30:40.038762",
     "status": "completed"
    },
    "tags": []
   },
   "source": [
    "### Comparing Performance and determining Best choice"
   ]
  },
  {
   "cell_type": "code",
   "execution_count": 42,
   "id": "d922b4d9",
   "metadata": {
    "editable": false,
    "execution": {
     "iopub.execute_input": "2024-04-02T17:30:40.305242Z",
     "iopub.status.busy": "2024-04-02T17:30:40.304241Z",
     "iopub.status.idle": "2024-04-02T17:30:40.311366Z",
     "shell.execute_reply": "2024-04-02T17:30:40.310526Z"
    },
    "papermill": {
     "duration": 0.097895,
     "end_time": "2024-04-02T17:30:40.313191",
     "exception": false,
     "start_time": "2024-04-02T17:30:40.215296",
     "status": "completed"
    },
    "tags": []
   },
   "outputs": [
    {
     "name": "stdout",
     "output_type": "stream",
     "text": [
      "Accuracy of BatchNorm is: 72.67\n",
      "Accuracy of Dropout is: 72.62\n",
      "Accuracy of BatchNorm and Dropout is: 72.91\n",
      "The best choice among the three regularizers is: Batch Norm + Dropout\n"
     ]
    }
   ],
   "source": [
    "# Compare the performance and determine the best choice\n",
    "print(f\"Accuracy of BatchNorm is: {test_accuracy_bn[-1]}\")\n",
    "print(f\"Accuracy of Dropout is: {test_accuracy_dropout[-1]}\")\n",
    "print(f\"Accuracy of BatchNorm and Dropout is: {test_accuracy_dropout_bn[-1]}\")\n",
    "best_accuracy = max(test_accuracy_bn[-1], test_accuracy_dropout[-1], test_accuracy_dropout_bn[-1])\n",
    "best_choice = None\n",
    "if best_accuracy == test_accuracy_bn[-1]:\n",
    "    best_choice = 'Batch Normalization'\n",
    "elif best_accuracy == test_accuracy_dropout[-1]:\n",
    "    best_choice = 'Dropout'\n",
    "else:\n",
    "    best_choice = 'Batch Norm + Dropout'\n",
    "\n",
    "print(f\"The best choice among the three regularizers is: {best_choice}\")"
   ]
  }
 ],
 "metadata": {
  "kaggle": {
   "accelerator": "gpu",
   "dataSources": [],
   "dockerImageVersionId": 30674,
   "isGpuEnabled": true,
   "isInternetEnabled": true,
   "language": "python",
   "sourceType": "notebook"
  },
  "kernelspec": {
   "display_name": "Python 3",
   "language": "python",
   "name": "python3"
  },
  "language_info": {
   "codemirror_mode": {
    "name": "ipython",
    "version": 3
   },
   "file_extension": ".py",
   "mimetype": "text/x-python",
   "name": "python",
   "nbconvert_exporter": "python",
   "pygments_lexer": "ipython3",
   "version": "3.10.13"
  },
  "papermill": {
   "default_parameters": {},
   "duration": 9246.676278,
   "end_time": "2024-04-02T17:30:42.975269",
   "environment_variables": {},
   "exception": null,
   "input_path": "__notebook__.ipynb",
   "output_path": "__notebook__.ipynb",
   "parameters": {},
   "start_time": "2024-04-02T14:56:36.298991",
   "version": "2.5.0"
  }
 },
 "nbformat": 4,
 "nbformat_minor": 5
}
